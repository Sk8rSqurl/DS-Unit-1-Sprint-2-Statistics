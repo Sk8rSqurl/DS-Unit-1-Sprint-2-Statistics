{
 "cells": [
  {
   "cell_type": "markdown",
   "metadata": {
    "colab_type": "text",
    "id": "838Dmw1kM2LK"
   },
   "source": [
    "# Lambda School Data Science Module 122\n",
    "## Sampling, Confidence Intervals, and Hypothesis Testing"
   ]
  },
  {
   "cell_type": "markdown",
   "metadata": {},
   "source": [
    "## Recap: t-tests"
   ]
  },
  {
   "cell_type": "code",
   "execution_count": null,
   "metadata": {},
   "outputs": [],
   "source": [
    "# imports"
   ]
  },
  {
   "cell_type": "code",
   "execution_count": null,
   "metadata": {},
   "outputs": [],
   "source": [
    "url='https://raw.githubusercontent.com/ryanleeallred/datasets/master/adult.csv'"
   ]
  },
  {
   "cell_type": "code",
   "execution_count": null,
   "metadata": {},
   "outputs": [],
   "source": [
    "# Remove null values as these will throw off the ttest\n"
   ]
  },
  {
   "cell_type": "code",
   "execution_count": null,
   "metadata": {},
   "outputs": [],
   "source": [
    "# salary values\n"
   ]
  },
  {
   "cell_type": "code",
   "execution_count": null,
   "metadata": {},
   "outputs": [],
   "source": [
    "## what is the average age?\n"
   ]
  },
  {
   "cell_type": "code",
   "execution_count": null,
   "metadata": {},
   "outputs": [],
   "source": [
    "# restrict to high earners\n"
   ]
  },
  {
   "cell_type": "code",
   "execution_count": null,
   "metadata": {},
   "outputs": [],
   "source": [
    "# is age continuous?\n"
   ]
  },
  {
   "cell_type": "code",
   "execution_count": null,
   "metadata": {},
   "outputs": [],
   "source": [
    "# is the average age of high earners above the population average? yes.\n"
   ]
  },
  {
   "cell_type": "code",
   "execution_count": null,
   "metadata": {},
   "outputs": [],
   "source": [
    "# is there a sig difference between the age of high and low earners? yes.\n"
   ]
  },
  {
   "cell_type": "code",
   "execution_count": null,
   "metadata": {},
   "outputs": [],
   "source": [
    "# subset male and female low earners\n",
    "\n",
    "\n",
    "# note the trailing space."
   ]
  },
  {
   "cell_type": "code",
   "execution_count": null,
   "metadata": {},
   "outputs": [],
   "source": [
    "# is there a sig difference between the male and female low earners? yes.\n"
   ]
  },
  {
   "cell_type": "markdown",
   "metadata": {
    "colab_type": "text",
    "id": "dbcPKIo5M6Ny"
   },
   "source": [
    "## Prepare - examine other available hypothesis tests\n",
    "\n",
    "If you had to pick a single hypothesis test in your toolbox, t-test would probably be the best choice - but the good news is you don't have to pick just one! Here's some of the others to be aware of:"
   ]
  },
  {
   "cell_type": "code",
   "execution_count": null,
   "metadata": {},
   "outputs": [],
   "source": [
    "# consider a crosstab. Are men and women equally distributed by salary?\n"
   ]
  },
  {
   "cell_type": "code",
   "execution_count": null,
   "metadata": {},
   "outputs": [],
   "source": [
    "# can we test that?\n"
   ]
  },
  {
   "cell_type": "code",
   "execution_count": null,
   "metadata": {
    "colab": {
     "base_uri": "https://localhost:8080/",
     "height": 215
    },
    "colab_type": "code",
    "id": "tlBel8j9M6tB",
    "outputId": "811623c9-885a-42e3-c3f7-159ced2ce330"
   },
   "outputs": [],
   "source": [
    " # One-way chi square test\n",
    "\n",
    "# Chi square can take any crosstab/table and test the independence of rows/cols\n",
    "# The null hypothesis is that the rows/cols are independent -> low chi square\n",
    "# The alternative is that there is a dependence -> high chi square\n",
    "# Be aware! Chi square does *not* tell you direction/causation\n"
   ]
  },
  {
   "cell_type": "code",
   "execution_count": null,
   "metadata": {},
   "outputs": [],
   "source": []
  },
  {
   "cell_type": "code",
   "execution_count": null,
   "metadata": {},
   "outputs": [],
   "source": [
    "# Is a distribution normal? This is a poisson distribution\n"
   ]
  },
  {
   "cell_type": "code",
   "execution_count": null,
   "metadata": {},
   "outputs": [],
   "source": [
    "# Is it normal?\n"
   ]
  },
  {
   "cell_type": "code",
   "execution_count": null,
   "metadata": {},
   "outputs": [],
   "source": [
    "# mean, std dev, number of obs\n",
    "\n",
    "\n",
    "\n",
    "# Pretty clearly  normal"
   ]
  },
  {
   "cell_type": "code",
   "execution_count": null,
   "metadata": {},
   "outputs": [],
   "source": [
    "# display that!\n"
   ]
  },
  {
   "cell_type": "code",
   "execution_count": null,
   "metadata": {},
   "outputs": [],
   "source": [
    "# Poisson models arrival times and is related to the binomial (coinflip)\n",
    "\n",
    "\n",
    "# Pretty clearly not normal"
   ]
  },
  {
   "cell_type": "code",
   "execution_count": null,
   "metadata": {},
   "outputs": [],
   "source": [
    "# display that!\n"
   ]
  },
  {
   "cell_type": "markdown",
   "metadata": {
    "colab_type": "text",
    "id": "7pT3IP36Rh0b"
   },
   "source": [
    "And there's many more! `scipy.stats` is fairly comprehensive, though there are even more available if you delve into the extended world of statistics packages. As tests get increasingly obscure and specialized, the importance of knowing them by heart becomes small - but being able to look them up and figure them out when they *are* relevant is still important."
   ]
  },
  {
   "cell_type": "markdown",
   "metadata": {
    "colab_type": "text",
    "id": "bvvPV-RJN2vA"
   },
   "source": [
    "## Central Limit Theorem\n",
    "\n"
   ]
  },
  {
   "cell_type": "code",
   "execution_count": null,
   "metadata": {},
   "outputs": [],
   "source": [
    "# Flip a coin.\n"
   ]
  },
  {
   "cell_type": "code",
   "execution_count": null,
   "metadata": {},
   "outputs": [],
   "source": [
    "# Let me flip a coin twelve times.\n"
   ]
  },
  {
   "cell_type": "code",
   "execution_count": null,
   "metadata": {},
   "outputs": [],
   "source": [
    "# show that.\n"
   ]
  },
  {
   "cell_type": "code",
   "execution_count": null,
   "metadata": {},
   "outputs": [],
   "source": [
    "# what is the mean of this sample of coinflips?\n"
   ]
  },
  {
   "cell_type": "code",
   "execution_count": null,
   "metadata": {},
   "outputs": [],
   "source": [
    "# what if I do it again?\n"
   ]
  },
  {
   "cell_type": "code",
   "execution_count": null,
   "metadata": {},
   "outputs": [],
   "source": [
    "# and the mean?\n"
   ]
  },
  {
   "cell_type": "code",
   "execution_count": null,
   "metadata": {},
   "outputs": [],
   "source": [
    "# why are these means different? shouldn't it be the same at .5 for a fair coin?\n"
   ]
  },
  {
   "cell_type": "markdown",
   "metadata": {},
   "source": [
    "**each of these 'samples' is an estimate of the distribution.** . \n",
    "https://www.youtube.com/watch?v=Kq7e6cj2nDw"
   ]
  },
  {
   "cell_type": "code",
   "execution_count": null,
   "metadata": {
    "colab": {
     "base_uri": "https://localhost:8080/",
     "height": 72
    },
    "colab_type": "code",
    "id": "FBLoOF8qOJeJ",
    "outputId": "0a4e7e48-ef94-497b-b119-cd27a6660167"
   },
   "outputs": [],
   "source": [
    "# take 3000 samples of size 12, and make a list of their means.\n",
    "\n"
   ]
  },
  {
   "cell_type": "code",
   "execution_count": null,
   "metadata": {},
   "outputs": [],
   "source": [
    "# look at the first 10 means.\n"
   ]
  },
  {
   "cell_type": "code",
   "execution_count": null,
   "metadata": {
    "colab": {
     "base_uri": "https://localhost:8080/",
     "height": 198
    },
    "colab_type": "code",
    "id": "rfeA06evOT2K",
    "outputId": "62a06b54-3ecd-496c-bac5-b1874f405cd5"
   },
   "outputs": [],
   "source": [
    "# make a df of one sample\n"
   ]
  },
  {
   "cell_type": "code",
   "execution_count": null,
   "metadata": {
    "colab": {
     "base_uri": "https://localhost:8080/",
     "height": 269
    },
    "colab_type": "code",
    "id": "GlMSNFX6OmBV",
    "outputId": "9122b3d0-a59f-496d-9c7b-bc2eacc489f8"
   },
   "outputs": [],
   "source": [
    "# this df is clearly a binomial distribution (one and zero are the only options)\n"
   ]
  },
  {
   "cell_type": "code",
   "execution_count": null,
   "metadata": {
    "colab": {
     "base_uri": "https://localhost:8080/",
     "height": 296
    },
    "colab_type": "code",
    "id": "Jie4ypgLOs5M",
    "outputId": "13e41ba1-8118-4a7b-99e2-9966565e65ee"
   },
   "outputs": [],
   "source": [
    "# now plot all 3000 sample means\n"
   ]
  },
  {
   "cell_type": "code",
   "execution_count": null,
   "metadata": {},
   "outputs": [],
   "source": [
    "# is this a normal distribution?\n"
   ]
  },
  {
   "cell_type": "markdown",
   "metadata": {
    "colab_type": "text",
    "id": "LsEAjc4rOylm"
   },
   "source": [
    "What does the Central Limit Theorem State? That no matter the initial distribution of the population, the distribution of sample means taken will approximate a normal distribution as $n \\rightarrow \\infty$.\n",
    "\n",
    "This has very important implications for hypothesis testing and is precisely the reason why the t-distribution begins to approximate the normal distribution as our sample size increases. "
   ]
  },
  {
   "cell_type": "code",
   "execution_count": null,
   "metadata": {},
   "outputs": [],
   "source": [
    "# let's pretend each sample included 100 coin flips, not just 12.\n",
    "\n",
    "# the higher my sample size, the closer I get to .5!\n"
   ]
  },
  {
   "cell_type": "code",
   "execution_count": null,
   "metadata": {},
   "outputs": [],
   "source": [
    "# when I plot, it gets a little taller and a little narrower!\n"
   ]
  },
  {
   "cell_type": "markdown",
   "metadata": {},
   "source": [
    "This outcome is what we call the Central Limit Theorem. No matter the distribution of my underlying data, the distribution of the estimates will be distributed normally."
   ]
  },
  {
   "cell_type": "code",
   "execution_count": null,
   "metadata": {
    "colab": {
     "base_uri": "https://localhost:8080/",
     "height": 72
    },
    "colab_type": "code",
    "id": "F15l-J788ApQ",
    "outputId": "afb637fe-330d-4292-a718-70587f0a1d97"
   },
   "outputs": [],
   "source": [
    "# Compare sets of small and large samples\n"
   ]
  },
  {
   "cell_type": "code",
   "execution_count": null,
   "metadata": {
    "colab": {
     "base_uri": "https://localhost:8080/",
     "height": 269
    },
    "colab_type": "code",
    "id": "JdES8jXz8kAG",
    "outputId": "7f1ca5c1-62cc-4bea-c808-12f943166c2a"
   },
   "outputs": [],
   "source": [
    "# Plot that for comparison: it gets taller, narrower, and more normal.\n"
   ]
  },
  {
   "cell_type": "markdown",
   "metadata": {
    "colab_type": "text",
    "id": "EYqo5vZZSFUr"
   },
   "source": [
    "## Confidence Interval"
   ]
  },
  {
   "cell_type": "markdown",
   "metadata": {},
   "source": [
    "![source](https://www.mathsisfun.com/data/images/ci95.gif)"
   ]
  },
  {
   "cell_type": "markdown",
   "metadata": {},
   "source": [
    "With 95% confidence, the population mean is within these bounds. This is the [margin of error](https://www.monmouth.edu/polling-institute/reports/monmouthpoll_ia_111219/) we often seen in political polls."
   ]
  },
  {
   "cell_type": "markdown",
   "metadata": {},
   "source": [
    "Between the upper and lower bounds we can find 95% of the sample means."
   ]
  },
  {
   "cell_type": "markdown",
   "metadata": {
    "colab_type": "text",
    "id": "nfdQf8QYUUmw"
   },
   "source": [
    "<img src=\"https://github.com/ryanallredblog/ryanallredblog.github.io/blob/master/img/Confidence_Interval.png?raw=true\" width=400>"
   ]
  },
  {
   "cell_type": "markdown",
   "metadata": {},
   "source": [
    "s = standard deviation of the sample  \n",
    "n = sample size  \n",
    "t = test statistic  \n",
    "X = sample mean\n",
    "  \n",
    "As sample size goes up, the standard error (i.e., the spread of our error) gets tighter."
   ]
  },
  {
   "cell_type": "code",
   "execution_count": null,
   "metadata": {},
   "outputs": [],
   "source": [
    "# bring in the stats module (for the t-statistic)\n"
   ]
  },
  {
   "cell_type": "code",
   "execution_count": null,
   "metadata": {
    "colab": {},
    "colab_type": "code",
    "id": "tBx71Kf0UjT3"
   },
   "outputs": [],
   "source": [
    "\n",
    "    \"\"\"\n",
    "    Calculate a confidence interval around a sample mean for given data.\n",
    "    Using t-distribution and two-tailed test, default 95% confidence. \n",
    "\n",
    "    Arguments:\n",
    "    data - iterable (list or numpy array) of sample observations\n",
    "    confidence - level of confidence for the interval\n",
    "\n",
    "    Returns:\n",
    "    tuple of (mean, lower bound, upper bound)\n",
    "    \"\"\"\n",
    "    "
   ]
  },
  {
   "cell_type": "code",
   "execution_count": null,
   "metadata": {},
   "outputs": [],
   "source": [
    "# what's the conf interval for a sample of 500 coin flips?\n",
    "\n",
    "\n",
    "# mean, upper bound, lower bound."
   ]
  },
  {
   "cell_type": "code",
   "execution_count": null,
   "metadata": {},
   "outputs": [],
   "source": [
    "# try this again. It should capture the mean 95% of the time.\n"
   ]
  },
  {
   "cell_type": "markdown",
   "metadata": {},
   "source": [
    "We want the t-statistic that corresponds to the probability cut off for a given t distribution  (a distribution with a certain 'degrees of freedom').  \n",
    "`stats.t.ppf` is just looking up the corresponding t-statistic."
   ]
  },
  {
   "cell_type": "markdown",
   "metadata": {},
   "source": [
    "**Degrees of freedom**  \n",
    "degrees of freedom equals the number of \"observations\" minus the number of required relations among the observations (e.g., the number of parameter estimates). For a 1-sample t-test, one degree of freedom is spent estimating the mean, and the remaining n - 1 degrees of freedom estimate variability.\n",
    "https://blog.minitab.com/blog/statistics-and-quality-data-analysis/what-are-degrees-of-freedom-in-statistics"
   ]
  },
  {
   "cell_type": "markdown",
   "metadata": {},
   "source": [
    "**Looking at stats.t.ppf**"
   ]
  },
  {
   "cell_type": "code",
   "execution_count": null,
   "metadata": {},
   "outputs": [],
   "source": [
    "# stats.t.ppf(# probability cutoff, # degrees of freedom)\n",
    "\n",
    "# 95% confidence level -> .025\n",
    "\n",
    "# 1 - confidence_level == .05 / 2 -> .025\n",
    "\n"
   ]
  },
  {
   "cell_type": "markdown",
   "metadata": {
    "colab_type": "text",
    "id": "C4rtc8luVUAK"
   },
   "source": [
    "## Graphically Represent a Confidence Interval"
   ]
  },
  {
   "cell_type": "code",
   "execution_count": null,
   "metadata": {},
   "outputs": [],
   "source": [
    "import matplotlib.pyplot as plt\n",
    "import seaborn as sns"
   ]
  },
  {
   "cell_type": "code",
   "execution_count": null,
   "metadata": {
    "colab": {},
    "colab_type": "code",
    "id": "pz6F9_3_VmKr"
   },
   "outputs": [],
   "source": [
    "# fake data - one samle of 42 coin flips\n",
    "\n",
    "# kernel density estimate\n"
   ]
  },
  {
   "cell_type": "code",
   "execution_count": null,
   "metadata": {},
   "outputs": [],
   "source": [
    "# fake data - 50 samples of 12 coin flips\n"
   ]
  },
  {
   "cell_type": "markdown",
   "metadata": {
    "colab_type": "text",
    "id": "_oy0uoBGeoEb"
   },
   "source": [
    "## Relationship between Confidence Intervals and T-tests\n",
    "\n",
    "Confidence Interval == Bounds of statistical significance for our t-test\n",
    "\n",
    "A sample mean that falls inside of our confidence interval will \"FAIL TO REJECT\" our null hypothesis\n",
    "\n",
    "A sample mean that falls outside of our confidence interval will \"REJECT\" our null hypothesis"
   ]
  },
  {
   "cell_type": "code",
   "execution_count": null,
   "metadata": {
    "colab": {},
    "colab_type": "code",
    "id": "izIyVavzfCXS"
   },
   "outputs": [],
   "source": []
  },
  {
   "cell_type": "markdown",
   "metadata": {},
   "source": [
    "**Note that scipy has a built-in function to calculate the confidence interval**   \n",
    "t.interval"
   ]
  },
  {
   "cell_type": "code",
   "execution_count": null,
   "metadata": {
    "colab": {
     "base_uri": "https://localhost:8080/",
     "height": 55
    },
    "colab_type": "code",
    "id": "Y7HwdMwDfL1N",
    "outputId": "43309626-838a-4d17-8507-038e7a0f6b74"
   },
   "outputs": [],
   "source": []
  },
  {
   "cell_type": "markdown",
   "metadata": {},
   "source": [
    "**Rebuild the earlier function**\n",
    "but using `t.interval` instead."
   ]
  },
  {
   "cell_type": "code",
   "execution_count": null,
   "metadata": {
    "colab": {
     "base_uri": "https://localhost:8080/",
     "height": 35
    },
    "colab_type": "code",
    "id": "nQDo-ZXlfOvR",
    "outputId": "c2e8386e-a0c4-49a4-f2ca-447fa92463f9"
   },
   "outputs": [],
   "source": [
    "# Sample Size\n",
    "\n",
    "# Degrees of Freedom\n",
    "\n",
    "# The Mean of Means:\n",
    "\n",
    "# Sample Standard Deviation\n",
    "\n",
    "# Standard Error\n"
   ]
  },
  {
   "cell_type": "code",
   "execution_count": null,
   "metadata": {
    "colab": {
     "base_uri": "https://localhost:8080/",
     "height": 52
    },
    "colab_type": "code",
    "id": "PiaALHSNfWou",
    "outputId": "612dbe6c-be4e-4cbb-9aeb-81309fb54529"
   },
   "outputs": [],
   "source": [
    "'''You can roll your own CI calculation pretty easily. \n",
    "The only thing that's a little bit challenging \n",
    "is understanding the t stat lookup'''\n",
    "\n",
    "# 95% confidence interval"
   ]
  },
  {
   "cell_type": "markdown",
   "metadata": {
    "colab_type": "text",
    "id": "EamZNJhAf-fY"
   },
   "source": [
    "A null hypothesis that's just inside of our confidence interval == fail to reject\n",
    "\n"
   ]
  },
  {
   "cell_type": "code",
   "execution_count": null,
   "metadata": {
    "colab": {
     "base_uri": "https://localhost:8080/",
     "height": 35
    },
    "colab_type": "code",
    "id": "cNpzYbjpfirR",
    "outputId": "ec1072cb-5130-43c8-c026-df6728f521e8"
   },
   "outputs": [],
   "source": [
    "# pick a value for my null hypothesis and check the p-value\n"
   ]
  },
  {
   "cell_type": "code",
   "execution_count": null,
   "metadata": {
    "colab": {
     "base_uri": "https://localhost:8080/",
     "height": 35
    },
    "colab_type": "code",
    "id": "N4SUjj82gKlv",
    "outputId": "8acaad7f-e23a-4c7a-a6aa-dc5c6a19b337"
   },
   "outputs": [],
   "source": [
    "# what if I pick a null hypothesis that's just outside of our confidence interval? \n"
   ]
  },
  {
   "cell_type": "code",
   "execution_count": null,
   "metadata": {},
   "outputs": [],
   "source": [
    "# I would only see this 5% of the time, so it's unlikely and I reject the null hypothesis.\n",
    "# A comparison of what we EXPECT and what we OBSERVE."
   ]
  },
  {
   "cell_type": "markdown",
   "metadata": {
    "colab_type": "text",
    "id": "pTIzrkKdUaLl"
   },
   "source": [
    "## Chi Squared Test $\\chi^{2}$"
   ]
  },
  {
   "cell_type": "markdown",
   "metadata": {},
   "source": [
    "A test for dependence of categorical variables. (ie, are they correlated?)"
   ]
  },
  {
   "cell_type": "code",
   "execution_count": null,
   "metadata": {
    "colab": {},
    "colab_type": "code",
    "id": "DDsovHUyUj3v"
   },
   "outputs": [],
   "source": [
    "# read back in the earlier data.\n"
   ]
  },
  {
   "cell_type": "code",
   "execution_count": null,
   "metadata": {},
   "outputs": [],
   "source": [
    "# just the numeric columns\n"
   ]
  },
  {
   "cell_type": "code",
   "execution_count": null,
   "metadata": {},
   "outputs": [],
   "source": [
    "# just the non-numeric columns (ie, categorical)\n"
   ]
  },
  {
   "cell_type": "code",
   "execution_count": null,
   "metadata": {},
   "outputs": [],
   "source": [
    "# create some binned categories \n"
   ]
  },
  {
   "cell_type": "code",
   "execution_count": null,
   "metadata": {},
   "outputs": [],
   "source": [
    "# sex\n"
   ]
  },
  {
   "cell_type": "code",
   "execution_count": null,
   "metadata": {},
   "outputs": [],
   "source": [
    "# binned category\n"
   ]
  },
  {
   "cell_type": "code",
   "execution_count": null,
   "metadata": {},
   "outputs": [],
   "source": []
  },
  {
   "cell_type": "code",
   "execution_count": null,
   "metadata": {},
   "outputs": [],
   "source": []
  },
  {
   "cell_type": "code",
   "execution_count": null,
   "metadata": {},
   "outputs": [],
   "source": [
    "# create a set of female counts\n"
   ]
  },
  {
   "cell_type": "code",
   "execution_count": null,
   "metadata": {},
   "outputs": [],
   "source": [
    "# create a set of male counts\n"
   ]
  },
  {
   "cell_type": "code",
   "execution_count": null,
   "metadata": {},
   "outputs": [],
   "source": [
    "#Plots the bar chart\n"
   ]
  },
  {
   "cell_type": "markdown",
   "metadata": {},
   "source": [
    "## Expected Value Calculation\n",
    "\\begin{align}\n",
    "expected_{i,j} =\\frac{(row_{i} \\text{total})(column_{j} \\text{total}) }{(\\text{total observations})}  \n",
    "\\end{align}"
   ]
  },
  {
   "cell_type": "code",
   "execution_count": null,
   "metadata": {},
   "outputs": [],
   "source": []
  },
  {
   "cell_type": "markdown",
   "metadata": {},
   "source": [
    "## Chi-Squared Statistic with Numpy\n",
    "\n",
    "\\begin{align}\n",
    "\\chi^2 = \\sum \\frac{(observed_{i}-expected_{i})^2}{(expected_{i})}\n",
    "\\end{align}\n",
    "\n",
    "For the $observed$ values we will just use a version of our contingency table without the margins as a numpy array. In this way, if our observed values array and our expected values array are the same shape, then we can subtract them and divide them directly which makes the calculations a lot cleaner. No for loops!"
   ]
  },
  {
   "cell_type": "code",
   "execution_count": null,
   "metadata": {},
   "outputs": [],
   "source": [
    "# Array broadcasting will work with numpy arrays but not python lists\n"
   ]
  },
  {
   "cell_type": "code",
   "execution_count": null,
   "metadata": {},
   "outputs": [],
   "source": [
    "# Degrees of Freedom of a Chi-squared test\n",
    "\n",
    "#degrees_of_freedom = (num_rows - 1)(num_columns - 1)\n",
    "\n",
    "\n",
    "# Calculate Degrees of Freedom\n"
   ]
  },
  {
   "cell_type": "markdown",
   "metadata": {
    "colab_type": "text",
    "id": "7Igz-XHcVbW3"
   },
   "source": [
    "## Run a $\\chi^{2}$ Test using Scipy"
   ]
  },
  {
   "cell_type": "markdown",
   "metadata": {},
   "source": [
    "Null Hypothesis: Hours worked per week bins is **independent** of sex. \n",
    "\n",
    "Due to a p-value of 0, we REJECT the null hypothesis that hours worked per week and sex are independent, and conclude that there is an association between hours worked per week and sex."
   ]
  },
  {
   "cell_type": "markdown",
   "metadata": {},
   "source": [
    "### Another example"
   ]
  },
  {
   "cell_type": "code",
   "execution_count": null,
   "metadata": {},
   "outputs": [],
   "source": [
    "# sex and salary"
   ]
  },
  {
   "cell_type": "code",
   "execution_count": null,
   "metadata": {},
   "outputs": [],
   "source": [
    "# chi square test"
   ]
  },
  {
   "cell_type": "code",
   "execution_count": null,
   "metadata": {},
   "outputs": [],
   "source": [
    "# age and salary"
   ]
  },
  {
   "cell_type": "code",
   "execution_count": null,
   "metadata": {},
   "outputs": [],
   "source": [
    "# crosstab"
   ]
  },
  {
   "cell_type": "code",
   "execution_count": null,
   "metadata": {},
   "outputs": [],
   "source": [
    "# chi square test"
   ]
  },
  {
   "cell_type": "code",
   "execution_count": null,
   "metadata": {},
   "outputs": [],
   "source": []
  }
 ],
 "metadata": {
  "colab": {
   "collapsed_sections": [],
   "name": "LS_DS_122_Sampling_Confidence_Intervals_and_Hypothesis_Testing.ipynb",
   "provenance": []
  },
  "kernelspec": {
   "display_name": "Python 3",
   "language": "python",
   "name": "python3"
  },
  "language_info": {
   "codemirror_mode": {
    "name": "ipython",
    "version": 3
   },
   "file_extension": ".py",
   "mimetype": "text/x-python",
   "name": "python",
   "nbconvert_exporter": "python",
   "pygments_lexer": "ipython3",
   "version": "3.7.3"
  }
 },
 "nbformat": 4,
 "nbformat_minor": 1
}
