{
 "cells": [
  {
   "cell_type": "markdown",
   "metadata": {},
   "source": [
    "More exercises with Bayes' Theorem"
   ]
  },
  {
   "cell_type": "markdown",
   "metadata": {},
   "source": [
    "Sources:  \n",
    "* http://learningwithdata.com/bayes-primer.html#bayes-primer  \n",
    "* https://machinelearningmastery.com/intuition-for-bayes-theorem-with-worked-examples/  \n",
    "* https://www.bayestheorem.net/  "
   ]
  },
  {
   "cell_type": "code",
   "execution_count": null,
   "metadata": {},
   "outputs": [],
   "source": []
  }
 ],
 "metadata": {
  "kernelspec": {
   "display_name": "Python 3",
   "language": "python",
   "name": "python3"
  },
  "language_info": {
   "codemirror_mode": {
    "name": "ipython",
    "version": 3
   },
   "file_extension": ".py",
   "mimetype": "text/x-python",
   "name": "python",
   "nbconvert_exporter": "python",
   "pygments_lexer": "ipython3",
   "version": "3.7.3"
  }
 },
 "nbformat": 4,
 "nbformat_minor": 2
}
