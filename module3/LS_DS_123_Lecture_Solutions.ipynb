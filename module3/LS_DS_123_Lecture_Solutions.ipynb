{
 "cells": [
  {
   "cell_type": "markdown",
   "metadata": {
    "colab_type": "text",
    "id": "H7OLbevlbd_Z"
   },
   "source": [
    "# Lambda School Data Science Module 123\n",
    "\n",
    "## Introduction to Bayesian Inference"
   ]
  },
  {
   "cell_type": "markdown",
   "metadata": {
    "colab_type": "text",
    "id": "3mz8p08BsN6p"
   },
   "source": [
    "## Prepare - Bayes' Theorem and the Bayesian mindset\n",
    "\n",
    "Bayes' theorem possesses a near-mythical quality - a bit of math that somehow magically evaluates a situation. But this mythicalness has more to do with its reputation and advanced applications than the actual core of it - deriving it is actually remarkably straightforward."
   ]
  },
  {
   "cell_type": "markdown",
   "metadata": {
    "colab_type": "text",
    "id": "Fa-jzYp9i8La"
   },
   "source": [
    "### The Law of Total Probability\n",
    "\n",
    "By definition, the total probability of all outcomes (events) if some variable (event space) $A$ is 1. That is:\n",
    "\n",
    "$$P(A) = \\sum_n P(A_n) = 1$$\n",
    "\n",
    "The law of total probability takes this further, considering two variables ($A$ and $B$) and relating their marginal probabilities (their likelihoods considered independently, without reference to one another) and their conditional probabilities (their likelihoods considered jointly). A marginal probability is simply notated as e.g. $P(A)$, while a conditional probability is notated $P(A|B)$, which reads \"probability of $A$ *given* $B$\".\n",
    "\n",
    "The law of total probability states:\n",
    "\n",
    "$$P(A) = \\sum_n P(A | B_n) P(B_n)$$\n",
    "\n",
    "In words - the total probability of $A$ is equal to the sum of the conditional probability of $A$ on any given event $B_n$ times the probability of that event $B_n$, and summed over all possible events in $B$."
   ]
  },
  {
   "cell_type": "markdown",
   "metadata": {
    "colab_type": "text",
    "id": "GhycNr-Sbeie"
   },
   "source": [
    "\n",
    "\n",
    "\n",
    "\n",
    "### The Law of Conditional Probability\n",
    "\n",
    "What's the probability of something conditioned on something else? To determine this we have to go back to set theory and think about the intersection of sets:\n",
    "\n",
    "The formula for actual calculation:\n",
    "\n",
    "$$P(A|B) = \\frac{P(A \\cap B)}{P(B)}$$\n",
    "\n",
    "![Visualization of set intersection](https://upload.wikimedia.org/wikipedia/commons/9/99/Venn0001.svg)\n",
    "\n",
    "Think of the overall rectangle as the whole probability space, $A$ as the left circle, $B$ as the right circle, and their intersection as the red area. Try to visualize the ratio being described in the above formula, and how it is different from just the $P(A)$ (not conditioned on $B$).\n",
    "\n",
    "We can see how this relates back to the law of total probability - multiply both sides by $P(B)$ and you get $P(A|B)P(B) = P(A \\cap B)$ - replaced back into the law of total probability we get $P(A) = \\sum_n P(A \\cap B_n)$.\n",
    "\n",
    "This may not seem like an improvement at first, but try to relate it back to the above picture - if you think of sets as physical objects, we're saying that the total probability of $A$ given $B$ is all the little pieces of it intersected with $B$, added together. The conditional probability is then just that again, but divided by the probability of $B$ itself happening in the first place.\n"
   ]
  },
  {
   "cell_type": "markdown",
   "metadata": {
    "colab_type": "text",
    "id": "hi45SXVyi_Wt"
   },
   "source": [
    "### Bayes Theorem\n",
    "\n",
    "Here is is, the seemingly magic tool:\n",
    "\n",
    "$$P(A|B) = \\frac{P(B|A)P(A)}{P(B)}$$\n",
    "\n",
    "In words - the probability of $A$ conditioned on $B$ is the probability of $B$ conditioned on $A$, times the probability of $A$ and divided by the probability of $B$. These unconditioned probabilities are referred to as \"prior beliefs\", and the conditioned probabilities as \"updated.\"\n",
    "\n",
    "Why is this important? Scroll back up to the XKCD example - the Bayesian statistician draws a less absurd conclusion because their prior belief in the likelihood that the sun will go nova is extremely low. So, even when updated based on evidence from a detector that is $35/36 = 0.972$ accurate, the prior belief doesn't shift enough to change their overall opinion.\n",
    "\n",
    "### Using Bayes Theorem Iteratively (repeated testing)\n",
    "\n",
    "This example comes from [Wikipedia](https://en.wikipedia.org/wiki/Bayes%27_theorem)\n",
    "\n",
    "There are many ways to apply Bayes' theorem - one less absurd example is to apply it to drug tests. You may think that a drug test that is 100% accurate for true positives (detecting somebody who is a user) is pretty good, but what if it also has 1% false positive rate (indicating somebody is a user when they're not)? And furthermore, the rate of drug use in the population at large (and thus our prior belief) is 1/200.\n",
    "\n",
    "What is the likelihood somebody really is drunk if they test positive? Some may guess it's 99% - the difference between the true positives and the false positives. But we have a prior belief of the background/true rate of drug use. Sounds like a job for Bayes' theorem!\n",
    "\n",
    "![Bayes Theorem Drug Test Example](https://wikimedia.org/api/rest_v1/media/math/render/svg/95c6524a3736c43e4bae139713f3df2392e6eda9)\n",
    "\n",
    "In other words, the likelihood that somebody is a user given they tested positive on a drug test is only 33.2% - probably much lower than you'd guess. This is why, in practice, it's important to use repeated testing to confirm. If we have the same individual who tested positive the first time take the drug test a second time then the posterior probability from our the first test becomes our new prior during the second application. What is the probability that a person is a drug user after two positive drug tests in a row?\n",
    "\n",
    "Bayes' theorem has been relevant in court cases where proper consideration of evidence was important. Whether it's a drug test, breathalyzer, pregnancy test, doctor's diagnosis, or neutrino detector, we have to take into account **both** the false positive rate and our prior probability in order to calculate the correct conditional probability."
   ]
  },
  {
   "cell_type": "markdown",
   "metadata": {},
   "source": [
    "P(+|User) = 1 True Positive Rate\n",
    "\n",
    "P(User) = 1/200 Prior probability\n",
    "\n",
    "P(+|Non-user) = False Positive rate\n",
    "\n",
    "You only need the above three numbers in order to calculate bayes rule\n",
    "P(Non-user) = (1 - P(User)) = (1 - 1/200) = .995\n",
    "\n",
    "These two are complements and their probabilities should add up to 1\n",
    "P(Non-user) + P(User) = 1"
   ]
  },
  {
   "cell_type": "code",
   "execution_count": 1,
   "metadata": {},
   "outputs": [
    {
     "data": {
      "text/plain": [
       "0.0009990109791306607"
      ]
     },
     "execution_count": 1,
     "metadata": {},
     "output_type": "execute_result"
    }
   ],
   "source": [
    "P_user = 1/100000\n",
    "P_non_user = 1 - P_user\n",
    "P_pos_given_user = 1\n",
    "P_pos_given_non_user = .01\n",
    "\n",
    "# My first iteration of Bayes Rule (Bayes Theorem)\n",
    "posterior_probability = (P_pos_given_user*P_user)/((P_pos_given_user*P_user) + (P_pos_given_non_user*P_non_user))\n",
    "\n",
    "posterior_probability"
   ]
  },
  {
   "cell_type": "code",
   "execution_count": 2,
   "metadata": {},
   "outputs": [
    {
     "data": {
      "text/plain": [
       "0.09090991736288513"
      ]
     },
     "execution_count": 2,
     "metadata": {},
     "output_type": "execute_result"
    }
   ],
   "source": [
    "# We have the same person take the drug test again\n",
    "# They test positive again\n",
    "# Now what is the likelihood that they are a drug user.\n",
    "\n",
    "# What is my prior during the second iteration of the test?\n",
    "# The posterior probability from the first test, \n",
    "# becomes our prior for the second iteration.\n",
    "\n",
    "# save posterior from first iteration as a new prior\n",
    "P_user = posterior_probability\n",
    "# calculate the complement of that prior via the law of total probability\n",
    "P_non_user = 1 - P_user\n",
    "\n",
    "posterior_probability = (P_pos_given_user*P_user)/((P_pos_given_user*P_user) + (P_pos_given_non_user*P_non_user))\n",
    "\n",
    "posterior_probability"
   ]
  },
  {
   "cell_type": "code",
   "execution_count": 3,
   "metadata": {},
   "outputs": [
    {
     "data": {
      "text/plain": [
       "0.9090917355379414"
      ]
     },
     "execution_count": 3,
     "metadata": {},
     "output_type": "execute_result"
    }
   ],
   "source": [
    "# save posterior from first iteration as a new prior\n",
    "P_user = posterior_probability\n",
    "# calculate the complement of that prior via the law of total probability\n",
    "P_non_user = 1 - P_user\n",
    "\n",
    "posterior_probability = (P_pos_given_user*P_user)/((P_pos_given_user*P_user) + (P_pos_given_non_user*P_non_user))\n",
    "\n",
    "posterior_probability"
   ]
  },
  {
   "cell_type": "code",
   "execution_count": 4,
   "metadata": {},
   "outputs": [
    {
     "data": {
      "text/plain": [
       "0.999001008981029"
      ]
     },
     "execution_count": 4,
     "metadata": {},
     "output_type": "execute_result"
    }
   ],
   "source": [
    "# save posterior from first iteration as a new prior\n",
    "P_user = posterior_probability\n",
    "# calculate the complement of that prior via the law of total probability\n",
    "P_non_user = 1 - P_user\n",
    "\n",
    "posterior_probability = (P_pos_given_user*P_user)/((P_pos_given_user*P_user) + (P_pos_given_non_user*P_non_user))\n",
    "\n",
    "posterior_probability"
   ]
  },
  {
   "cell_type": "markdown",
   "metadata": {
    "colab_type": "text",
    "id": "htI3DGvDsRJF"
   },
   "source": [
    "## Live Lecture - Deriving Bayes' Theorem, Calculating Bayesian Confidence"
   ]
  },
  {
   "cell_type": "markdown",
   "metadata": {
    "colab_type": "text",
    "id": "moIJNQ-nbfe_"
   },
   "source": [
    "Notice that $P(A|B)$ appears in the above laws - in Bayesian terms, this is the belief in $A$ updated for the evidence $B$. So all we need to do is solve for this term to derive Bayes' theorem. Let's do it together!"
   ]
  },
  {
   "cell_type": "code",
   "execution_count": 0,
   "metadata": {
    "colab": {},
    "colab_type": "code",
    "id": "ke-5EqJI0Tsn"
   },
   "outputs": [],
   "source": [
    "# Activity 2 - Use SciPy to calculate Bayesian confidence intervals\n",
    "# https://docs.scipy.org/doc/scipy/reference/generated/scipy.stats.bayes_mvs.html#scipy.stats.bayes_mvs"
   ]
  },
  {
   "cell_type": "code",
   "execution_count": 5,
   "metadata": {},
   "outputs": [
    {
     "name": "stdout",
     "output_type": "stream",
     "text": [
      "[0 1 1 1 0 0 0 1 1 1 0 1 1 0 0 0 0 1 0 0 1 0 0 0 0 1 0 1 1 0 1 0 0 1 1 1 0\n",
      " 0 1 0 0 0 0 1 0 1 0 1 1 0 1 1 1 1 1 1 0 0 0 0 0 0 1 0 0 1 0 1 0 1 1 0 0 1\n",
      " 1 1 1 0 0 0 1 1 0 0 0 0 1 1 1 0 0 1 1 1 1 0 1 0 0 0]\n"
     ]
    }
   ],
   "source": [
    "from scipy import stats\n",
    "import numpy as np\n",
    "\n",
    "# Set Random Seed for Reproducibility\n",
    "np.random.seed(seed=42)\n",
    "\n",
    "coinflips = np.random.binomial(n=1, p=.5, size=100)\n",
    "print(coinflips)"
   ]
  },
  {
   "cell_type": "code",
   "execution_count": 6,
   "metadata": {},
   "outputs": [
    {
     "data": {
      "text/plain": [
       "(0.47, 0.3704689875017368, 0.5695310124982632)"
      ]
     },
     "execution_count": 6,
     "metadata": {},
     "output_type": "execute_result"
    }
   ],
   "source": [
    "def confidence_interval(data, confidence=.95):\n",
    "    n = len(data)\n",
    "    mean = sum(data)/n\n",
    "    data = np.array(data)\n",
    "    stderr = stats.sem(data)\n",
    "    interval = stderr * stats.t.ppf((1 + confidence) / 2.0, n-1)\n",
    "    return (mean , mean-interval, mean+interval)\n",
    "\n",
    "confidence_interval(coinflips)"
   ]
  },
  {
   "cell_type": "code",
   "execution_count": 7,
   "metadata": {},
   "outputs": [
    {
     "name": "stdout",
     "output_type": "stream",
     "text": [
      "Mean(statistic=0.47, minmax=(0.37046898750173674, 0.5695310124982632))\n"
     ]
    }
   ],
   "source": [
    "mean_confidence_interval, _, _ = stats.bayes_mvs(coinflips, alpha=.95) # alpha is the confidence level for this equation\n",
    "print(mean_confidence_interval)"
   ]
  },
  {
   "cell_type": "code",
   "execution_count": null,
   "metadata": {},
   "outputs": [],
   "source": []
  },
  {
   "cell_type": "code",
   "execution_count": null,
   "metadata": {},
   "outputs": [],
   "source": []
  },
  {
   "cell_type": "code",
   "execution_count": null,
   "metadata": {},
   "outputs": [],
   "source": []
  },
  {
   "cell_type": "code",
   "execution_count": null,
   "metadata": {},
   "outputs": [],
   "source": []
  },
  {
   "cell_type": "code",
   "execution_count": null,
   "metadata": {},
   "outputs": [],
   "source": []
  },
  {
   "cell_type": "code",
   "execution_count": null,
   "metadata": {},
   "outputs": [],
   "source": []
  },
  {
   "cell_type": "code",
   "execution_count": null,
   "metadata": {},
   "outputs": [],
   "source": []
  },
  {
   "cell_type": "markdown",
   "metadata": {
    "colab_type": "text",
    "id": "uWgWjp3PQ3Sq"
   },
   "source": [
    "## Resources"
   ]
  },
  {
   "cell_type": "markdown",
   "metadata": {
    "colab_type": "text",
    "id": "QRgHqmYIQ9qn"
   },
   "source": [
    "- [Worked example of Bayes rule calculation](https://en.wikipedia.org/wiki/Bayes'_theorem#Examples) (helpful as it fully breaks out the denominator)\n",
    "- [Source code for mvsdist in scipy](https://github.com/scipy/scipy/blob/90534919e139d2a81c24bf08341734ff41a3db12/scipy/stats/morestats.py#L139)"
   ]
  }
 ],
 "metadata": {
  "colab": {
   "name": "LS_DS_123_Introduction_to_Bayesian_Inference.ipynb",
   "provenance": []
  },
  "kernelspec": {
   "display_name": "Python 3",
   "language": "python",
   "name": "python3"
  },
  "language_info": {
   "codemirror_mode": {
    "name": "ipython",
    "version": 3
   },
   "file_extension": ".py",
   "mimetype": "text/x-python",
   "name": "python",
   "nbconvert_exporter": "python",
   "pygments_lexer": "ipython3",
   "version": "3.7.3"
  }
 },
 "nbformat": 4,
 "nbformat_minor": 1
}
