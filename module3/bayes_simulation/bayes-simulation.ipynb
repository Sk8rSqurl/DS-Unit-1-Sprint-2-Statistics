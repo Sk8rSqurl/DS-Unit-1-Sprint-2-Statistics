{
 "cells": [
  {
   "cell_type": "markdown",
   "metadata": {},
   "source": [
    "## Bayes Simulation"
   ]
  },
  {
   "cell_type": "markdown",
   "metadata": {},
   "source": [
    "https://www.youtube.com/watch?v=89ye2hfsAsk  \n",
    "Bayesian Data Science Two Ways: Simulation and Probabilistic Programming"
   ]
  },
  {
   "cell_type": "markdown",
   "metadata": {},
   "source": [
    "Question: \n",
    "* Suppose that a test for using a particular drug is 99% sensitive and 99% specific.\n",
    "* That is, the test will produce 99% true positive results for drug users and 99% true negative results for non-drug users.\n",
    "* Suppose that 0.5% (5 in 1000) of people are users of the drug.   \n",
    "\n",
    "What is the probability that a randomly selected individuaal with a positive test is a drug user?"
   ]
  },
  {
   "cell_type": "markdown",
   "metadata": {},
   "source": [
    "\n",
    "<div>\n",
    "<img src=bayes-drug-testing.png width=\"1000\"/>\n",
    "</div>\n",
    "\n",
    "<div>\n",
    "<img src=bayes-numpy.png width=\"1000\"/>\n",
    "</div>\n"
   ]
  },
  {
   "cell_type": "code",
   "execution_count": 5,
   "metadata": {},
   "outputs": [],
   "source": [
    "import numpy as np\n",
    "# Take 10,000 subjects\n",
    "n = 10000\n",
    "# Sample for number of users, non-users\n",
    "# The probability of being a user. This is the a priori belief.\n",
    "users = np.random.binomial(n, 0.005)\n",
    "non_users = n - users"
   ]
  },
  {
   "cell_type": "code",
   "execution_count": 6,
   "metadata": {},
   "outputs": [],
   "source": [
    "# How many of these users tested positive?\n",
    "# Remember: the probability of testing positive given that you're a user is 99%\n",
    "u_pos = np.random.binomial(users, 0.99) # TRUE POSITIVES"
   ]
  },
  {
   "cell_type": "code",
   "execution_count": 7,
   "metadata": {},
   "outputs": [],
   "source": [
    "# How many of these non-users tested positive?\n",
    "# Remember: the probability of testing negative given that you're non-user is 99% (so 1% chance of testing pos.)\n",
    "non_pos = np.random.binomial(non_users, 0.01) # FALSE POSITIVES"
   ]
  },
  {
   "cell_type": "code",
   "execution_count": 8,
   "metadata": {},
   "outputs": [
    {
     "data": {
      "text/plain": [
       "0.34838709677419355"
      ]
     },
     "execution_count": 8,
     "metadata": {},
     "output_type": "execute_result"
    }
   ],
   "source": [
    "# How many of those positive tests were for users?\n",
    "# The probability of being a user, given that you test positive.\n",
    "users/(u_pos + non_pos)"
   ]
  },
  {
   "cell_type": "markdown",
   "metadata": {},
   "source": [
    "What you have been able to do here is to solve the following problem: you knew P(+|user) = .99, but you were trying to figure out P(user|+). "
   ]
  },
  {
   "cell_type": "code",
   "execution_count": null,
   "metadata": {},
   "outputs": [],
   "source": []
  }
 ],
 "metadata": {
  "kernelspec": {
   "display_name": "Python 3",
   "language": "python",
   "name": "python3"
  },
  "language_info": {
   "codemirror_mode": {
    "name": "ipython",
    "version": 3
   },
   "file_extension": ".py",
   "mimetype": "text/x-python",
   "name": "python",
   "nbconvert_exporter": "python",
   "pygments_lexer": "ipython3",
   "version": "3.7.3"
  }
 },
 "nbformat": 4,
 "nbformat_minor": 2
}
