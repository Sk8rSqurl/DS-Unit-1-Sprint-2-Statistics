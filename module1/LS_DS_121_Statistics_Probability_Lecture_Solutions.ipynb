{
 "cells": [
  {
   "cell_type": "markdown",
   "metadata": {
    "colab_type": "text",
    "id": "eJGtmni-DezY"
   },
   "source": [
    "<img align=\"left\" src=\"https://lever-client-logos.s3.amazonaws.com/864372b1-534c-480e-acd5-9711f850815c-1524247202159.png\" width=200>\n",
    "\n",
    "<br></br>\n",
    "<br></br>\n",
    "\n",
    "## *Data Science Unit 1 Sprint 2 Lesson 1*\n",
    "\n",
    "# Statistics, Probability and Inference\n",
    "\n",
    "## Learning Objectives\n",
    "* [Part 1](#p1): Normal Distribution Revisted\n",
    "* [Part 2](#p2): Student's T Test\n",
    "* [Part 3](#p3): Hypothesis Test & Doing it Live"
   ]
  },
  {
   "cell_type": "markdown",
   "metadata": {
    "colab_type": "text",
    "id": "WOXkk77hbeP5"
   },
   "source": [
    "## What is Descriptive Statistics?\n",
    "\n",
    "<https://statistics.laerd.com/statistical-guides/descriptive-inferential-statistics.php>"
   ]
  },
  {
   "cell_type": "code",
   "execution_count": 1,
   "metadata": {
    "colab": {
     "base_uri": "https://localhost:8080/",
     "height": 195
    },
    "colab_type": "code",
    "id": "aGsGGy4Mb9IG",
    "outputId": "30adadef-0e5a-4efe-bd22-745b288b4804"
   },
   "outputs": [
    {
     "data": {
      "text/html": [
       "<div>\n",
       "<style scoped>\n",
       "    .dataframe tbody tr th:only-of-type {\n",
       "        vertical-align: middle;\n",
       "    }\n",
       "\n",
       "    .dataframe tbody tr th {\n",
       "        vertical-align: top;\n",
       "    }\n",
       "\n",
       "    .dataframe thead th {\n",
       "        text-align: right;\n",
       "    }\n",
       "</style>\n",
       "<table border=\"1\" class=\"dataframe\">\n",
       "  <thead>\n",
       "    <tr style=\"text-align: right;\">\n",
       "      <th></th>\n",
       "      <th>a</th>\n",
       "      <th>b</th>\n",
       "    </tr>\n",
       "  </thead>\n",
       "  <tbody>\n",
       "    <tr>\n",
       "      <th>0</th>\n",
       "      <td>1</td>\n",
       "      <td>2</td>\n",
       "    </tr>\n",
       "    <tr>\n",
       "      <th>1</th>\n",
       "      <td>2</td>\n",
       "      <td>4</td>\n",
       "    </tr>\n",
       "    <tr>\n",
       "      <th>2</th>\n",
       "      <td>3</td>\n",
       "      <td>6</td>\n",
       "    </tr>\n",
       "    <tr>\n",
       "      <th>3</th>\n",
       "      <td>4</td>\n",
       "      <td>8</td>\n",
       "    </tr>\n",
       "    <tr>\n",
       "      <th>4</th>\n",
       "      <td>5</td>\n",
       "      <td>10</td>\n",
       "    </tr>\n",
       "  </tbody>\n",
       "</table>\n",
       "</div>"
      ],
      "text/plain": [
       "   a   b\n",
       "0  1   2\n",
       "1  2   4\n",
       "2  3   6\n",
       "3  4   8\n",
       "4  5  10"
      ]
     },
     "execution_count": 1,
     "metadata": {},
     "output_type": "execute_result"
    }
   ],
   "source": [
    "import pandas as pd\n",
    "df = pd.DataFrame({'a': [1,2,3,4,5], 'b': [2,4,6,8,10]})\n",
    "df.head()"
   ]
  },
  {
   "cell_type": "code",
   "execution_count": 2,
   "metadata": {
    "colab": {},
    "colab_type": "code",
    "id": "K-73WFB5cI1_"
   },
   "outputs": [
    {
     "data": {
      "text/html": [
       "<div>\n",
       "<style scoped>\n",
       "    .dataframe tbody tr th:only-of-type {\n",
       "        vertical-align: middle;\n",
       "    }\n",
       "\n",
       "    .dataframe tbody tr th {\n",
       "        vertical-align: top;\n",
       "    }\n",
       "\n",
       "    .dataframe thead th {\n",
       "        text-align: right;\n",
       "    }\n",
       "</style>\n",
       "<table border=\"1\" class=\"dataframe\">\n",
       "  <thead>\n",
       "    <tr style=\"text-align: right;\">\n",
       "      <th></th>\n",
       "      <th>a</th>\n",
       "      <th>b</th>\n",
       "    </tr>\n",
       "  </thead>\n",
       "  <tbody>\n",
       "    <tr>\n",
       "      <th>count</th>\n",
       "      <td>5.000000</td>\n",
       "      <td>5.000000</td>\n",
       "    </tr>\n",
       "    <tr>\n",
       "      <th>mean</th>\n",
       "      <td>3.000000</td>\n",
       "      <td>6.000000</td>\n",
       "    </tr>\n",
       "    <tr>\n",
       "      <th>std</th>\n",
       "      <td>1.581139</td>\n",
       "      <td>3.162278</td>\n",
       "    </tr>\n",
       "    <tr>\n",
       "      <th>min</th>\n",
       "      <td>1.000000</td>\n",
       "      <td>2.000000</td>\n",
       "    </tr>\n",
       "    <tr>\n",
       "      <th>25%</th>\n",
       "      <td>2.000000</td>\n",
       "      <td>4.000000</td>\n",
       "    </tr>\n",
       "    <tr>\n",
       "      <th>50%</th>\n",
       "      <td>3.000000</td>\n",
       "      <td>6.000000</td>\n",
       "    </tr>\n",
       "    <tr>\n",
       "      <th>75%</th>\n",
       "      <td>4.000000</td>\n",
       "      <td>8.000000</td>\n",
       "    </tr>\n",
       "    <tr>\n",
       "      <th>max</th>\n",
       "      <td>5.000000</td>\n",
       "      <td>10.000000</td>\n",
       "    </tr>\n",
       "  </tbody>\n",
       "</table>\n",
       "</div>"
      ],
      "text/plain": [
       "              a          b\n",
       "count  5.000000   5.000000\n",
       "mean   3.000000   6.000000\n",
       "std    1.581139   3.162278\n",
       "min    1.000000   2.000000\n",
       "25%    2.000000   4.000000\n",
       "50%    3.000000   6.000000\n",
       "75%    4.000000   8.000000\n",
       "max    5.000000  10.000000"
      ]
     },
     "execution_count": 2,
     "metadata": {},
     "output_type": "execute_result"
    }
   ],
   "source": [
    "# How can we quickly look at some descriptive statistics of the above dataframe?\n",
    "df.describe()"
   ]
  },
  {
   "cell_type": "markdown",
   "metadata": {
    "colab_type": "text",
    "id": "MOkBDGsWbMRc"
   },
   "source": [
    "## Normal Distribution Revisited\n",
    "\n",
    "What is the Normal distribution: A probability distribution of a continuous real valued random-variable. The Normal distribution properties make it useful for the *Central Limit Theorm*, because if we assume a variable follows the normal distribution, we can make certain conclusions based on probabilities."
   ]
  },
  {
   "cell_type": "code",
   "execution_count": 3,
   "metadata": {
    "colab": {},
    "colab_type": "code",
    "id": "BYlq8EYKbMRd"
   },
   "outputs": [],
   "source": [
    "import numpy as np\n",
    "\n",
    "mu = 0 # mean\n",
    "sigma = 1 # standard deviation\n",
    "sample = np.random.normal(mu, sigma, 1000)"
   ]
  },
  {
   "cell_type": "code",
   "execution_count": 4,
   "metadata": {
    "colab": {},
    "colab_type": "code",
    "id": "GbVV3_TsbMRn",
    "outputId": "7ac56d23-c90c-4016-8bb1-b6dbdd0eb313"
   },
   "outputs": [],
   "source": [
    "import seaborn as sns\n",
    "from matplotlib import style\n",
    "\n",
    "style.use('fivethirtyeight')\n",
    "\n",
    "ax = sns.distplot(sample, color='r')\n",
    "ax.axvline(np.percentile(sample,97.5),0)\n",
    "ax.axvline(np.percentile(sample,2.5),0);"
   ]
  },
  {
   "cell_type": "markdown",
   "metadata": {
    "colab_type": "text",
    "id": "D3ZwR9tDc-KX"
   },
   "source": [
    "![The Normal Distribution](https://upload.wikimedia.org/wikipedia/commons/thumb/a/a9/Empirical_Rule.PNG/350px-Empirical_Rule.png)"
   ]
  },
  {
   "cell_type": "markdown",
   "metadata": {
    "colab_type": "text",
    "id": "wtobOQescQU6"
   },
   "source": [
    "## What is Inferential Statistics?"
   ]
  },
  {
   "cell_type": "markdown",
   "metadata": {},
   "source": [
    "![stats](https://slideplayer.com/slide/5130463/16/images/2/Statistical+Inference.jpg)"
   ]
  },
  {
   "cell_type": "markdown",
   "metadata": {},
   "source": [
    "When we talk about the **population parameters**: we use $\\mu$ and $\\sigma$ for mean and standard deviation\n",
    "\n",
    "When we talk about the sample **sample statistics**: we use $\\bar{x}$ and s\n",
    "\n",
    "    \n"
   ]
  },
  {
   "cell_type": "markdown",
   "metadata": {
    "colab_type": "text",
    "id": "zsb1KMUSc2xe"
   },
   "source": [
    "## Hypothesis Testing (T-Tests)"
   ]
  },
  {
   "cell_type": "markdown",
   "metadata": {},
   "source": [
    "What is A/B testing?  \n",
    "https://www.convertize.com/what-is-ab-testing/   \n",
    "https://blog.hubspot.com/blog/tabid/6307/bid/20566/the-button-color-a-b-test-red-beats-green.aspx"
   ]
  },
  {
   "cell_type": "markdown",
   "metadata": {},
   "source": [
    "#### 3 types of t-tests"
   ]
  },
  {
   "cell_type": "markdown",
   "metadata": {},
   "source": [
    "There are three main types of t-test:  \n",
    "-- An Independent Samples t-test compares the means for two groups.  \n",
    "-- A Paired sample t-test compares means from the same group at different times.  \n",
    "-- A One sample t-test tests the mean of a single group against a known mean."
   ]
  },
  {
   "cell_type": "markdown",
   "metadata": {},
   "source": [
    "#### T-Test Assumptions:  \n",
    "1. the scale of measurement applied to the data collected follows a continuous or ordinal scale, such as the scores for an IQ test.  \n",
    "2. the data is collected from a representative, randomly selected portion of the total population.  \n",
    "3. the data, when plotted, results in a normal distribution, bell-shaped distribution curve.  \n",
    "4. a reasonably large sample size is used. A larger sample size means the distribution of results should approach a normal bell-shaped curve.  \n",
    "5. homogeneity of variance. Homogeneous, or equal, variance exists when the standard deviations of samples are approximately equal.  "
   ]
  },
  {
   "cell_type": "code",
   "execution_count": 5,
   "metadata": {},
   "outputs": [],
   "source": [
    "#### Example: sample data -- number of \"conversions\" between two versions of a website, over 10 days\n",
    "a=[1136, 1178, 1212, 1193, 1226, 1154, 1230, 1222, 1161, 1148]\n",
    "b=[1184, 1203, 1219, 1238, 1243, 1204, 1269, 1256, 1156, 1248]"
   ]
  },
  {
   "cell_type": "code",
   "execution_count": 6,
   "metadata": {},
   "outputs": [
    {
     "name": "stdout",
     "output_type": "stream",
     "text": [
      "1186.0\n",
      "1222.0\n",
      "36.0\n"
     ]
    }
   ],
   "source": [
    "# It looks like B produces more conversions!\n",
    "print(np.mean(a))\n",
    "print(np.mean(b))\n",
    "print(np.mean(b) - np.mean(a))"
   ]
  },
  {
   "cell_type": "markdown",
   "metadata": {},
   "source": [
    "#### Generate a hypothesis\n",
    "Null hypothesis: website A has the same average conversion rate as website B   \n",
    "Alternative hypothesis (1-tailed): website A has lower/higher average conversion rate than website B   \n",
    "Alternative hypothesis (2-tailed): website A has different average conversion rate than website B "
   ]
  },
  {
   "cell_type": "code",
   "execution_count": 7,
   "metadata": {},
   "outputs": [],
   "source": [
    "# import\n",
    "from scipy.stats import ttest_ind"
   ]
  },
  {
   "cell_type": "code",
   "execution_count": 8,
   "metadata": {},
   "outputs": [
    {
     "name": "stdout",
     "output_type": "stream",
     "text": [
      "0.03504505626727664\n",
      "0.01752252813363832\n"
     ]
    }
   ],
   "source": [
    "# compare\n",
    "\n",
    "print(ttest_ind(a,b).pvalue) # one-tailed test\n",
    "print(ttest_ind(a,b).pvalue/2) # two-tailed test"
   ]
  },
  {
   "cell_type": "code",
   "execution_count": 9,
   "metadata": {},
   "outputs": [
    {
     "name": "stdout",
     "output_type": "stream",
     "text": [
      "True\n",
      "False\n",
      "False\n"
     ]
    }
   ],
   "source": [
    "# interpret the p-value\n",
    "print(ttest_ind(a,b).pvalue/2 < 0.05) # 95% confidence interval (alpha = .05)\n",
    "print(ttest_ind(a,b).pvalue/2 < 0.01) # 99% confidence interval (alpha = .01)\n",
    "print(ttest_ind(a,b).pvalue/2 < 0.0001) # 99.9% confidence interval (alpha = .001)"
   ]
  },
  {
   "cell_type": "code",
   "execution_count": 10,
   "metadata": {},
   "outputs": [
    {
     "name": "stdout",
     "output_type": "stream",
     "text": [
      "-2.2795770510504845\n"
     ]
    }
   ],
   "source": [
    "# what about the t-statistic?\n",
    "print(ttest_ind(a,b).statistic)"
   ]
  },
  {
   "cell_type": "markdown",
   "metadata": {},
   "source": [
    "![tstat](https://blog.minitab.com/hubfs/Imported_Blog_Media/formula_1t.png)"
   ]
  },
  {
   "cell_type": "markdown",
   "metadata": {},
   "source": [
    "A common analogy is that the t-value is the signal-to-noise ratio.   \n",
    "**The numerator is the signal.** You simply take the sample mean and subtract the null hypothesis value. As the difference between the sample mean and the null hypothesis mean increases in either the positive or negative direction, the strength of the signal increases.  \n",
    "**The denominator is the noise.** The equation in the denominator is a measure of variability known as the standard error of the mean. This statistic indicates how accurately your sample estimates the mean of the population. A larger number indicates that your sample estimate is less precise because it has more random error.  \n",
    "**Both the signal and noise values are in the units of your data.** If your signal is 6 and the noise is 2, your t-value is 3. This t-value indicates that the difference is 3 times the size of the standard error. However, if there is a difference of the same size but your data have more variability (6), your t-value is only 1. The signal is at the same scale as the noise.  \n",
    "https://blog.minitab.com/blog/adventures-in-statistics-2/understanding-t-tests-1-sample-2-sample-and-paired-t-tests"
   ]
  },
  {
   "cell_type": "code",
   "execution_count": null,
   "metadata": {},
   "outputs": [],
   "source": []
  },
  {
   "cell_type": "markdown",
   "metadata": {},
   "source": [
    "#### Another example: pancakes"
   ]
  },
  {
   "cell_type": "markdown",
   "metadata": {
    "colab_type": "text",
    "id": "cOnNrJembf5c"
   },
   "source": [
    "\n",
    "\n",
    "Ever thought about how long it takes to make a pancake? Have you ever compared the tooking time of a pancake on each eye of your stove? Is the cooking time different between the different eyes? Now, we can run an experiment and collect a sample of 1,000 pancakes on one eye and another 800 pancakes on the other eye. Assumed we used the same pan, batter, and technique on both eyes. Our average cooking times were 180 (5 std) and 178.5 (4.25 std) seconds repsectively. Now, we can tell those numbers are not identicial, but how confident are we that those numbers are practically the same? How do we know the slight difference isn't caused by some external randomness?\n",
    "\n",
    "Yes, today's lesson will help you figure out how long to cook your pancakes (*theoretically*). Experimentation is up to you; otherwise, you have to accept my data as true. How are going to accomplish this? With probability, statistics, inference and maple syrup (optional). \n",
    "\n",
    "<img src=\"https://images.unsplash.com/photo-1541288097308-7b8e3f58c4c6?ixlib=rb-1.2.1&ixid=eyJhcHBfaWQiOjEyMDd9&auto=format&fit=crop&w=3300&q=80\" width=400>\n",
    "\n"
   ]
  },
  {
   "cell_type": "markdown",
   "metadata": {},
   "source": [
    "#### Our first 2-sample t-test (pancake example)\n",
    "1) Null Hypothesis: (boring hypothesis)\n",
    "\n",
    "𝑥¯1==𝑥¯2 \n",
    "\n",
    "Or that the average cooking time between the two burners is the same.\n",
    "\n",
    "2) Alternative Hypothesis: (the opposite of the null)\n",
    "\n",
    "𝑥¯1≠𝑥¯2 \n",
    "\n",
    "𝑥¯1−𝑥¯2≠0 \n",
    "3) Confidence Level: The probability of seing a true result in spite of random variability. (How often do I want to make sure that I'm right.) Typically: 95%, 99%, 99.9%"
   ]
  },
  {
   "cell_type": "code",
   "execution_count": 11,
   "metadata": {},
   "outputs": [],
   "source": [
    "from scipy.stats import ttest_ind"
   ]
  },
  {
   "cell_type": "code",
   "execution_count": 12,
   "metadata": {},
   "outputs": [
    {
     "data": {
      "text/plain": [
       "array([182.36739047, 182.35250653, 180.65678255, 180.37073787,\n",
       "       169.78205824])"
      ]
     },
     "execution_count": 12,
     "metadata": {},
     "output_type": "execute_result"
    }
   ],
   "source": [
    "# sample 1\n",
    "mu1 = 180 # sample mean\n",
    "sigma1 = 5 # standard deviation\n",
    "sample1 = np.random.normal(mu1, sigma1, 1000)\n",
    "sample1[:5]"
   ]
  },
  {
   "cell_type": "code",
   "execution_count": 13,
   "metadata": {},
   "outputs": [
    {
     "data": {
      "text/plain": [
       "array([181.54985114, 180.83702322, 175.3777533 , 181.29949002,\n",
       "       178.06299709])"
      ]
     },
     "execution_count": 13,
     "metadata": {},
     "output_type": "execute_result"
    }
   ],
   "source": [
    "# sample 2\n",
    "mu2 = 178.5 # sample mean\n",
    "sigma2 = 4.25 # standard deviation\n",
    "sample2 = np.random.normal(mu2, sigma2, 800)\n",
    "sample2[:5]"
   ]
  },
  {
   "cell_type": "code",
   "execution_count": 14,
   "metadata": {},
   "outputs": [
    {
     "data": {
      "text/plain": [
       "Ttest_indResult(statistic=5.692971172928321, pvalue=1.4550840256512496e-08)"
      ]
     },
     "execution_count": 14,
     "metadata": {},
     "output_type": "execute_result"
    }
   ],
   "source": [
    "# compare\n",
    "results=ttest_ind(sample1, sample2)\n",
    "results"
   ]
  },
  {
   "cell_type": "code",
   "execution_count": 15,
   "metadata": {},
   "outputs": [
    {
     "name": "stdout",
     "output_type": "stream",
     "text": [
      "1.4550840256512496e-08\n",
      "0.000000\n",
      "0.000000014550840\n"
     ]
    }
   ],
   "source": [
    "# what is the p-value?\n",
    "print(results[1])\n",
    "print('{:f}'.format(results[1]))\n",
    "print('{:.15f}'.format(results[1]))"
   ]
  },
  {
   "cell_type": "markdown",
   "metadata": {},
   "source": [
    "4) T Statistic: A value that falls along a t-distribution.\n",
    "\n",
    "A vertical bar that falls on our t-distribution\n",
    "5) P-value: The p-value that we're interested in is (1-Confidence Level) or in our case: .05\n",
    "\n",
    "The probability of getting this test result (t-statistic) due to random chance.\n",
    "\n",
    "The probability of our null hypothesis being true.\n",
    "\n",
    "6) Conclusions:\n",
    "\n",
    "Due to observing a t-statistic of 8.9 and a resulting p-value of .00000000000000000109, we reject the null hypothesis that the cooking times of these two burners is the same, and suggest the alternative hypothesis, that they are different.\n",
    "\n",
    "(Because our p-value was less than .05, we reject the null hypothesis)."
   ]
  },
  {
   "cell_type": "markdown",
   "metadata": {
    "colab_type": "text",
    "id": "5BvYLMjadAnu"
   },
   "source": [
    "# Why do we use the t-distribution in hypothesis tests?\n",
    "\n",
    "![t-distribution-low-dof](https://lambdachops.com/img/t-distribution-low-dof.png)\n",
    "\n",
    "![t-distribution-approximates-normal](https://github.com/ryanallredblog/ryanallredblog.github.io/blob/master/img/t-distribution-approximates-normal.png?raw=true)\n",
    "\n",
    "### Helpful video on why we use the t-distribution\n",
    "\n",
    "<https://www.youtube.com/watch?v=Uv6nGIgZMVw>\n",
    "\n",
    "However, in order to understand it you'll need to understand what a z-score is:\n",
    "\n",
    "A z-score calculates the number of standard deviations an observations lies from the population mean. The problem is that in real-world situations, we don't know what the sample mean is, so we have to turn to using the sample mean to estimate the population mean. Because the sample mean is generated from a sample and used to estimate the population mean with some level of uncertainty, it also has its own distribution a nd spread. This means that for low sample sizes both our estimates of the sample mean and sample population are not very precise, they're kind of spread out. It's this spread that makes the t-distribution wider than the normal distribution for low sample sizes. However, with the larger the sample size, the closer the t-distribution approximates the normal distribution.\n"
   ]
  },
  {
   "cell_type": "markdown",
   "metadata": {
    "colab_type": "text",
    "id": "FMhDKOFND0qY"
   },
   "source": [
    "## Student's T Test\n",
    "\n",
    ">Assuming data come from a Normal distribution, the t test provides a way to test whether the sample mean (that is the mean calculated from the data) is a good estimate of the population mean. \n",
    "\n",
    "The derivation of the t-distribution was first published in 1908 by William Gosset while working for the Guinness Brewery in Dublin. Due to proprietary issues, he had to publish under a pseudonym, and so he used the name Student.\n",
    "\n",
    "The t-distribution is essentially a distribution of means of normaly distributed data. When we use a t-statistic, we are  checking that a mean fails within a certain $\\alpha$ probability of the mean of means."
   ]
  },
  {
   "cell_type": "code",
   "execution_count": 16,
   "metadata": {
    "colab": {},
    "colab_type": "code",
    "id": "fQ9rkLJmEbsk"
   },
   "outputs": [],
   "source": [
    "t_df10 = np.random.standard_t(df=10, size=10)\n",
    "t_df100 = np.random.standard_t(df=100, size=100)\n",
    "t_df1000 = np.random.standard_t(df=1000, size=1000)"
   ]
  },
  {
   "cell_type": "code",
   "execution_count": 17,
   "metadata": {
    "colab": {
     "base_uri": "https://localhost:8080/",
     "height": 70
    },
    "colab_type": "code",
    "id": "RyNKPt_tJk86",
    "outputId": "db64f558-1945-4fef-f7d7-3184212d8237"
   },
   "outputs": [
    {
     "data": {
      "image/png": "[encoded data removed]",
      "text/plain": [
       "<Figure size 432x288 with 1 Axes>"
      ]
     },
     "metadata": {
      "needs_background": "light"
     },
     "output_type": "display_data"
    }
   ],
   "source": [
    "sns.kdeplot(t_df10, color='r');\n",
    "sns.kdeplot(t_df100, color='y');\n",
    "sns.kdeplot(t_df1000, color='b');"
   ]
  },
  {
   "cell_type": "code",
   "execution_count": 18,
   "metadata": {
    "colab": {
     "base_uri": "https://localhost:8080/",
     "height": 70
    },
    "colab_type": "code",
    "id": "seQv5unnJvpM",
    "outputId": "b2f84397-b204-4864-84a1-2b29eb926bbf"
   },
   "outputs": [
    {
     "name": "stdout",
     "output_type": "stream",
     "text": [
      "t - distribution with 10 degrees of freedom\n",
      "------------------------------\n",
      "Mean: 0.2057774804037824\n",
      "Standard Deviation: 1.1278214288980888\n",
      "Variance: 1.2719811754817265\n",
      "t - distribution with 100 degrees of freedom\n",
      "------------------------------\n",
      "Mean: -0.016270201393323278\n",
      "Standard Deviation: 1.0641120478112758\n",
      "Variance: 1.1323344502971067\n",
      "t - distribution with 1000 degrees of freedom\n",
      "------------------------------\n",
      "Mean: -0.004650618342531528\n",
      "Standard Deviation: 1.012726923114159\n",
      "Variance: 1.0256158208002717\n"
     ]
    }
   ],
   "source": [
    "i = 10\n",
    "for sample in [t_df10, t_df100, t_df1000]:\n",
    "    print(f\"t - distribution with {i} degrees of freedom\")\n",
    "    print(\"---\" * 10)\n",
    "    print(f\"Mean: {sample.mean()}\")\n",
    "    print(f\"Standard Deviation: {sample.std()}\")\n",
    "    print(f\"Variance: {sample.var()}\")\n",
    "    i = i*10"
   ]
  },
  {
   "cell_type": "markdown",
   "metadata": {
    "colab_type": "text",
    "id": "FOvEGMysLaE2"
   },
   "source": [
    "Why is it different from normal? To better reflect the tendencies of small data and situations with unknown population standard deviation. In other words, the normal distribution is still the nice pure ideal (thanks to the central limit theorem), but the t-distribution is much more useful in many real-world situations."
   ]
  },
  {
   "cell_type": "markdown",
   "metadata": {
    "colab_type": "text",
    "id": "1yx_QilAEC6o"
   },
   "source": [
    "## Let's perform and interpret a t-test\n",
    "We will learn about p-values and how to interpret \"statistical significance\" based on the output of a hypothesis test. We will also dig a bit deeper into how the test statistic is calculated based on the sample error, and visually what it looks like to have 1 or 2 \"tailed\" t-tests."
   ]
  },
  {
   "cell_type": "markdown",
   "metadata": {},
   "source": [
    "#### Get and prepare the data"
   ]
  },
  {
   "cell_type": "code",
   "execution_count": 19,
   "metadata": {
    "colab": {},
    "colab_type": "code",
    "id": "BuysRPs-Ed0v"
   },
   "outputs": [],
   "source": [
    "# imports\n",
    "from scipy.stats import ttest_ind, ttest_ind_from_stats, ttest_rel\n",
    "import pandas as pd"
   ]
  },
  {
   "cell_type": "code",
   "execution_count": 43,
   "metadata": {},
   "outputs": [],
   "source": [
    "# get the data\n",
    "url = 'https://raw.githubusercontent.com/austinlasseter/2018_fha_homebuyers/master/data/mortgage_sample.csv'"
   ]
  },
  {
   "cell_type": "markdown",
   "metadata": {},
   "source": [
    "\"17 percent of home-buyers in 2018 were single females\"\n",
    "* NAR Report: https://github.com/austinlasseter/2018_fha_homebuyers/blob/master/reports/FHA-Annual-Housing-Report-2019.pdf\n",
    "* Data source: https://www.fhfa.gov/DataTools/Downloads/Pages/Public-Use-Databases.aspx\n",
    "* Data dictionary: https://www.fhfa.gov/DataTools/Downloads/Documents/Enterprise-PUDB/National-File-A/2018_Single_Family_National_File_A.pdf"
   ]
  },
  {
   "cell_type": "code",
   "execution_count": 69,
   "metadata": {},
   "outputs": [
    {
     "data": {
      "text/html": [
       "<div>\n",
       "<style scoped>\n",
       "    .dataframe tbody tr th:only-of-type {\n",
       "        vertical-align: middle;\n",
       "    }\n",
       "\n",
       "    .dataframe tbody tr th {\n",
       "        vertical-align: top;\n",
       "    }\n",
       "\n",
       "    .dataframe thead th {\n",
       "        text-align: right;\n",
       "    }\n",
       "</style>\n",
       "<table border=\"1\" class=\"dataframe\">\n",
       "  <thead>\n",
       "    <tr style=\"text-align: right;\">\n",
       "      <th></th>\n",
       "      <th>record</th>\n",
       "      <th>enterprise</th>\n",
       "      <th>metro</th>\n",
       "      <th>tract_pct_minority</th>\n",
       "      <th>tract_income_ratio</th>\n",
       "      <th>borrower_income_ratio</th>\n",
       "      <th>ltv</th>\n",
       "      <th>loan_purpose</th>\n",
       "      <th>fed_guarantee</th>\n",
       "      <th>borrower_race</th>\n",
       "      <th>borrower_gender</th>\n",
       "      <th>coborrower_race</th>\n",
       "      <th>coborrower gender</th>\n",
       "      <th>units</th>\n",
       "      <th>affordability</th>\n",
       "    </tr>\n",
       "  </thead>\n",
       "  <tbody>\n",
       "    <tr>\n",
       "      <th>0</th>\n",
       "      <td>696120</td>\n",
       "      <td>2</td>\n",
       "      <td>1</td>\n",
       "      <td>3</td>\n",
       "      <td>3</td>\n",
       "      <td>3</td>\n",
       "      <td>4</td>\n",
       "      <td>1</td>\n",
       "      <td>4</td>\n",
       "      <td>6</td>\n",
       "      <td>9</td>\n",
       "      <td>1</td>\n",
       "      <td>5</td>\n",
       "      <td>1</td>\n",
       "      <td>4</td>\n",
       "    </tr>\n",
       "    <tr>\n",
       "      <th>1</th>\n",
       "      <td>1043888</td>\n",
       "      <td>2</td>\n",
       "      <td>1</td>\n",
       "      <td>1</td>\n",
       "      <td>3</td>\n",
       "      <td>3</td>\n",
       "      <td>2</td>\n",
       "      <td>1</td>\n",
       "      <td>4</td>\n",
       "      <td>9</td>\n",
       "      <td>9</td>\n",
       "      <td>1</td>\n",
       "      <td>2</td>\n",
       "      <td>1</td>\n",
       "      <td>4</td>\n",
       "    </tr>\n",
       "    <tr>\n",
       "      <th>2</th>\n",
       "      <td>778619</td>\n",
       "      <td>2</td>\n",
       "      <td>1</td>\n",
       "      <td>2</td>\n",
       "      <td>2</td>\n",
       "      <td>3</td>\n",
       "      <td>4</td>\n",
       "      <td>1</td>\n",
       "      <td>4</td>\n",
       "      <td>5</td>\n",
       "      <td>9</td>\n",
       "      <td>1</td>\n",
       "      <td>5</td>\n",
       "      <td>1</td>\n",
       "      <td>4</td>\n",
       "    </tr>\n",
       "    <tr>\n",
       "      <th>3</th>\n",
       "      <td>85106</td>\n",
       "      <td>2</td>\n",
       "      <td>1</td>\n",
       "      <td>2</td>\n",
       "      <td>1</td>\n",
       "      <td>3</td>\n",
       "      <td>4</td>\n",
       "      <td>1</td>\n",
       "      <td>4</td>\n",
       "      <td>5</td>\n",
       "      <td>5</td>\n",
       "      <td>1</td>\n",
       "      <td>2</td>\n",
       "      <td>1</td>\n",
       "      <td>4</td>\n",
       "    </tr>\n",
       "    <tr>\n",
       "      <th>4</th>\n",
       "      <td>477652</td>\n",
       "      <td>2</td>\n",
       "      <td>1</td>\n",
       "      <td>3</td>\n",
       "      <td>2</td>\n",
       "      <td>3</td>\n",
       "      <td>4</td>\n",
       "      <td>1</td>\n",
       "      <td>4</td>\n",
       "      <td>9</td>\n",
       "      <td>7</td>\n",
       "      <td>1</td>\n",
       "      <td>2</td>\n",
       "      <td>1</td>\n",
       "      <td>4</td>\n",
       "    </tr>\n",
       "  </tbody>\n",
       "</table>\n",
       "</div>"
      ],
      "text/plain": [
       "    record  enterprise  metro  tract_pct_minority  tract_income_ratio  \\\n",
       "0   696120           2      1                   3                   3   \n",
       "1  1043888           2      1                   1                   3   \n",
       "2   778619           2      1                   2                   2   \n",
       "3    85106           2      1                   2                   1   \n",
       "4   477652           2      1                   3                   2   \n",
       "\n",
       "   borrower_income_ratio  ltv  loan_purpose  fed_guarantee  borrower_race  \\\n",
       "0                      3    4             1              4              6   \n",
       "1                      3    2             1              4              9   \n",
       "2                      3    4             1              4              5   \n",
       "3                      3    4             1              4              5   \n",
       "4                      3    4             1              4              9   \n",
       "\n",
       "   borrower_gender  coborrower_race  coborrower gender  units  affordability  \n",
       "0                9                1                  5      1              4  \n",
       "1                9                1                  2      1              4  \n",
       "2                9                1                  5      1              4  \n",
       "3                5                1                  2      1              4  \n",
       "4                7                1                  2      1              4  "
      ]
     },
     "execution_count": 69,
     "metadata": {},
     "output_type": "execute_result"
    }
   ],
   "source": [
    "# make into a dataframe\n",
    "df = pd.read_csv(url)\n",
    "df.head()"
   ]
  },
  {
   "cell_type": "markdown",
   "metadata": {},
   "source": [
    "Borrower Income Ratio    \n",
    "\n",
    "The ratio of the borrower’s (or borrowers’) annual income to\n",
    "the area median family income for the reporting year. \n",
    "\n",
    "1 = >= 0, <=50% (poor)   \n",
    "2 = >50, <=80% (mid)   \n",
    "3 = >80% (wealthy)    \n",
    "9 = Not applicable  "
   ]
  },
  {
   "cell_type": "code",
   "execution_count": 70,
   "metadata": {},
   "outputs": [
    {
     "data": {
      "text/plain": [
       "1     694\n",
       "2    1941\n",
       "3    7364\n",
       "Name: borrower_income_ratio, dtype: int64"
      ]
     },
     "execution_count": 70,
     "metadata": {},
     "output_type": "execute_result"
    }
   ],
   "source": [
    "# income ratio\n",
    "df=df[df['borrower_income_ratio']<9]\n",
    "df['borrower_income_ratio'].value_counts().sort_index()"
   ]
  },
  {
   "cell_type": "code",
   "execution_count": 71,
   "metadata": {},
   "outputs": [
    {
     "data": {
      "text/plain": [
       "0    2635\n",
       "1    7364\n",
       "Name: hi_income, dtype: int64"
      ]
     },
     "execution_count": 71,
     "metadata": {},
     "output_type": "execute_result"
    }
   ],
   "source": [
    "# recode\n",
    "df['hi_income']=np.where(df['borrower_income_ratio']==3, 1, 0)\n",
    "df['hi_income'].value_counts().sort_index()"
   ]
  },
  {
   "cell_type": "markdown",
   "metadata": {},
   "source": [
    "LTV  \n",
    "1 = >0, <=60%  \n",
    "2 = >60, <=80%  (safe)  \n",
    "3 = >80, <=90%  \n",
    "4 = >90, <=95%  (risky)  \n",
    "5 = >95%  \n",
    "9 = Missing  "
   ]
  },
  {
   "cell_type": "code",
   "execution_count": 72,
   "metadata": {},
   "outputs": [
    {
     "data": {
      "text/plain": [
       "1    1713\n",
       "2    4466\n",
       "3     994\n",
       "4    1986\n",
       "5     839\n",
       "9       1\n",
       "Name: ltv, dtype: int64"
      ]
     },
     "execution_count": 72,
     "metadata": {},
     "output_type": "execute_result"
    }
   ],
   "source": [
    "# loan to value\n",
    "df['ltv'].value_counts().sort_index()"
   ]
  },
  {
   "cell_type": "code",
   "execution_count": 81,
   "metadata": {},
   "outputs": [
    {
     "data": {
      "text/plain": [
       "0.0    1713\n",
       "1.0     839\n",
       "Name: risk, dtype: int64"
      ]
     },
     "execution_count": 81,
     "metadata": {},
     "output_type": "execute_result"
    }
   ],
   "source": [
    "# recode LTV as a percent\n",
    "df['risk']=df['ltv'].map({1:0,  5:1})\n",
    "df['risk'].value_counts().sort_index()"
   ]
  },
  {
   "cell_type": "code",
   "execution_count": 82,
   "metadata": {},
   "outputs": [
    {
     "data": {
      "text/html": [
       "<div>\n",
       "<style scoped>\n",
       "    .dataframe tbody tr th:only-of-type {\n",
       "        vertical-align: middle;\n",
       "    }\n",
       "\n",
       "    .dataframe tbody tr th {\n",
       "        vertical-align: top;\n",
       "    }\n",
       "\n",
       "    .dataframe thead th {\n",
       "        text-align: right;\n",
       "    }\n",
       "</style>\n",
       "<table border=\"1\" class=\"dataframe\">\n",
       "  <thead>\n",
       "    <tr style=\"text-align: right;\">\n",
       "      <th>risk</th>\n",
       "      <th>0.0</th>\n",
       "      <th>1.0</th>\n",
       "    </tr>\n",
       "    <tr>\n",
       "      <th>hi_income</th>\n",
       "      <th></th>\n",
       "      <th></th>\n",
       "    </tr>\n",
       "  </thead>\n",
       "  <tbody>\n",
       "    <tr>\n",
       "      <th>0</th>\n",
       "      <td>596</td>\n",
       "      <td>430</td>\n",
       "    </tr>\n",
       "    <tr>\n",
       "      <th>1</th>\n",
       "      <td>1117</td>\n",
       "      <td>409</td>\n",
       "    </tr>\n",
       "  </tbody>\n",
       "</table>\n",
       "</div>"
      ],
      "text/plain": [
       "risk        0.0  1.0\n",
       "hi_income           \n",
       "0           596  430\n",
       "1          1117  409"
      ]
     },
     "execution_count": 82,
     "metadata": {},
     "output_type": "execute_result"
    }
   ],
   "source": [
    "# crosstab\n",
    "compare = pd.crosstab(df['hi_income'], df['risk'])\n",
    "compare"
   ]
  },
  {
   "cell_type": "code",
   "execution_count": 84,
   "metadata": {},
   "outputs": [
    {
     "data": {
      "image/png": "[encoded data removed]",
      "text/plain": [
       "<Figure size 1152x288 with 1 Axes>"
      ]
     },
     "metadata": {
      "needs_background": "light"
     },
     "output_type": "display_data"
    }
   ],
   "source": [
    "# Do low-income borrowers tend to have riskier loans?\n",
    "compare.plot(kind='bar', figsize=(16,4));"
   ]
  },
  {
   "cell_type": "markdown",
   "metadata": {},
   "source": [
    "(two-sample t-test)\n",
    "1) Null Hypothesis: There is no difference between average loan risk for hi and lo income borrowers (risk is equal)\n",
    "\n",
    "𝑥¯1==𝑥¯2 Where 𝑥¯1 is the mean risk of low income and 𝑥¯2 is the mean of high income\n",
    "\n",
    "2) Alternative Hypothesis:\n",
    "\n",
    "𝑥¯1≠𝑥¯2 Levels of risk between the two groups will differ.\n",
    "\n",
    "3) 95% Confidence Level"
   ]
  },
  {
   "cell_type": "code",
   "execution_count": null,
   "metadata": {},
   "outputs": [],
   "source": [
    "from scipy.stats import ttest_ind"
   ]
  },
  {
   "cell_type": "code",
   "execution_count": 87,
   "metadata": {},
   "outputs": [
    {
     "data": {
      "text/plain": [
       "hi_income\n",
       "0    0.419103\n",
       "1    0.268021\n",
       "Name: risk, dtype: float64"
      ]
     },
     "execution_count": 87,
     "metadata": {},
     "output_type": "execute_result"
    }
   ],
   "source": [
    "# What is the loan risk of low and high income?\n",
    "df.groupby('hi_income')['risk'].mean()"
   ]
  },
  {
   "cell_type": "code",
   "execution_count": 94,
   "metadata": {},
   "outputs": [
    {
     "name": "stdout",
     "output_type": "stream",
     "text": [
      "(7364, 17)\n",
      "(2635, 17)\n"
     ]
    }
   ],
   "source": [
    "# make two groups\n",
    "high = df[df['hi_income']==1]\n",
    "low = df[df['hi_income']==0]\n",
    "print(high.shape)\n",
    "print(low.shape)"
   ]
  },
  {
   "cell_type": "code",
   "execution_count": 97,
   "metadata": {},
   "outputs": [
    {
     "name": "stdout",
     "output_type": "stream",
     "text": [
      "0.26802096985583224\n"
     ]
    },
    {
     "data": {
      "text/plain": [
       "0.4191033138401559"
      ]
     },
     "execution_count": 97,
     "metadata": {},
     "output_type": "execute_result"
    }
   ],
   "source": [
    "print(high['risk'].mean())\n",
    "low['risk'].mean()"
   ]
  },
  {
   "cell_type": "code",
   "execution_count": null,
   "metadata": {},
   "outputs": [],
   "source": [
    "# compare with a t-test:\n",
    "ttest_ind(high['risk'], low['risk'], nan_policy='omit')"
   ]
  },
  {
   "cell_type": "markdown",
   "metadata": {},
   "source": [
    "#### Get and prepare the data"
   ]
  },
  {
   "cell_type": "code",
   "execution_count": 19,
   "metadata": {
    "colab": {},
    "colab_type": "code",
    "id": "BuysRPs-Ed0v"
   },
   "outputs": [],
   "source": [
    "# imports\n",
    "from scipy.stats import ttest_ind, ttest_ind_from_stats, ttest_rel"
   ]
  },
  {
   "cell_type": "code",
   "execution_count": 20,
   "metadata": {},
   "outputs": [
    {
     "name": "stdout",
     "output_type": "stream",
     "text": [
      "/bin/sh: wget: command not found\r\n"
     ]
    }
   ],
   "source": [
    "# get the data\n",
    "!wget https://archive.ics.uci.edu/ml/machine-learning-databases/voting-records/house-votes-84.data"
   ]
  },
  {
   "cell_type": "code",
   "execution_count": 21,
   "metadata": {},
   "outputs": [
    {
     "ename": "FileNotFoundError",
     "evalue": "[Errno 2] File b'house-votes-84.data' does not exist: b'house-votes-84.data'",
     "output_type": "error",
     "traceback": [
      "\u001b[0;31m---------------------------------------------------------------------------\u001b[0m",
      "\u001b[0;31mFileNotFoundError\u001b[0m                         Traceback (most recent call last)",
      "\u001b[0;32m<ipython-input-21-42eaa864c26b>\u001b[0m in \u001b[0;36m<module>\u001b[0;34m\u001b[0m\n\u001b[1;32m     10\u001b[0m                  \u001b[0mheader\u001b[0m\u001b[0;34m=\u001b[0m\u001b[0;32mNone\u001b[0m\u001b[0;34m,\u001b[0m\u001b[0;34m\u001b[0m\u001b[0;34m\u001b[0m\u001b[0m\n\u001b[1;32m     11\u001b[0m                  \u001b[0mnames\u001b[0m\u001b[0;34m=\u001b[0m\u001b[0mcolumn_headers\u001b[0m\u001b[0;34m,\u001b[0m\u001b[0;34m\u001b[0m\u001b[0;34m\u001b[0m\u001b[0m\n\u001b[0;32m---> 12\u001b[0;31m                  na_values=\"?\")\n\u001b[0m\u001b[1;32m     13\u001b[0m \u001b[0;34m\u001b[0m\u001b[0m\n\u001b[1;32m     14\u001b[0m \u001b[0mdf\u001b[0m\u001b[0;34m.\u001b[0m\u001b[0mhead\u001b[0m\u001b[0;34m(\u001b[0m\u001b[0;34m)\u001b[0m\u001b[0;34m\u001b[0m\u001b[0;34m\u001b[0m\u001b[0m\n",
      "\u001b[0;32m//anaconda3/lib/python3.7/site-packages/pandas/io/parsers.py\u001b[0m in \u001b[0;36mparser_f\u001b[0;34m(filepath_or_buffer, sep, delimiter, header, names, index_col, usecols, squeeze, prefix, mangle_dupe_cols, dtype, engine, converters, true_values, false_values, skipinitialspace, skiprows, skipfooter, nrows, na_values, keep_default_na, na_filter, verbose, skip_blank_lines, parse_dates, infer_datetime_format, keep_date_col, date_parser, dayfirst, iterator, chunksize, compression, thousands, decimal, lineterminator, quotechar, quoting, doublequote, escapechar, comment, encoding, dialect, tupleize_cols, error_bad_lines, warn_bad_lines, delim_whitespace, low_memory, memory_map, float_precision)\u001b[0m\n\u001b[1;32m    700\u001b[0m                     skip_blank_lines=skip_blank_lines)\n\u001b[1;32m    701\u001b[0m \u001b[0;34m\u001b[0m\u001b[0m\n\u001b[0;32m--> 702\u001b[0;31m         \u001b[0;32mreturn\u001b[0m \u001b[0m_read\u001b[0m\u001b[0;34m(\u001b[0m\u001b[0mfilepath_or_buffer\u001b[0m\u001b[0;34m,\u001b[0m \u001b[0mkwds\u001b[0m\u001b[0;34m)\u001b[0m\u001b[0;34m\u001b[0m\u001b[0;34m\u001b[0m\u001b[0m\n\u001b[0m\u001b[1;32m    703\u001b[0m \u001b[0;34m\u001b[0m\u001b[0m\n\u001b[1;32m    704\u001b[0m     \u001b[0mparser_f\u001b[0m\u001b[0;34m.\u001b[0m\u001b[0m__name__\u001b[0m \u001b[0;34m=\u001b[0m \u001b[0mname\u001b[0m\u001b[0;34m\u001b[0m\u001b[0;34m\u001b[0m\u001b[0m\n",
      "\u001b[0;32m//anaconda3/lib/python3.7/site-packages/pandas/io/parsers.py\u001b[0m in \u001b[0;36m_read\u001b[0;34m(filepath_or_buffer, kwds)\u001b[0m\n\u001b[1;32m    427\u001b[0m \u001b[0;34m\u001b[0m\u001b[0m\n\u001b[1;32m    428\u001b[0m     \u001b[0;31m# Create the parser.\u001b[0m\u001b[0;34m\u001b[0m\u001b[0;34m\u001b[0m\u001b[0;34m\u001b[0m\u001b[0m\n\u001b[0;32m--> 429\u001b[0;31m     \u001b[0mparser\u001b[0m \u001b[0;34m=\u001b[0m \u001b[0mTextFileReader\u001b[0m\u001b[0;34m(\u001b[0m\u001b[0mfilepath_or_buffer\u001b[0m\u001b[0;34m,\u001b[0m \u001b[0;34m**\u001b[0m\u001b[0mkwds\u001b[0m\u001b[0;34m)\u001b[0m\u001b[0;34m\u001b[0m\u001b[0;34m\u001b[0m\u001b[0m\n\u001b[0m\u001b[1;32m    430\u001b[0m \u001b[0;34m\u001b[0m\u001b[0m\n\u001b[1;32m    431\u001b[0m     \u001b[0;32mif\u001b[0m \u001b[0mchunksize\u001b[0m \u001b[0;32mor\u001b[0m \u001b[0miterator\u001b[0m\u001b[0;34m:\u001b[0m\u001b[0;34m\u001b[0m\u001b[0;34m\u001b[0m\u001b[0m\n",
      "\u001b[0;32m//anaconda3/lib/python3.7/site-packages/pandas/io/parsers.py\u001b[0m in \u001b[0;36m__init__\u001b[0;34m(self, f, engine, **kwds)\u001b[0m\n\u001b[1;32m    893\u001b[0m             \u001b[0mself\u001b[0m\u001b[0;34m.\u001b[0m\u001b[0moptions\u001b[0m\u001b[0;34m[\u001b[0m\u001b[0;34m'has_index_names'\u001b[0m\u001b[0;34m]\u001b[0m \u001b[0;34m=\u001b[0m \u001b[0mkwds\u001b[0m\u001b[0;34m[\u001b[0m\u001b[0;34m'has_index_names'\u001b[0m\u001b[0;34m]\u001b[0m\u001b[0;34m\u001b[0m\u001b[0;34m\u001b[0m\u001b[0m\n\u001b[1;32m    894\u001b[0m \u001b[0;34m\u001b[0m\u001b[0m\n\u001b[0;32m--> 895\u001b[0;31m         \u001b[0mself\u001b[0m\u001b[0;34m.\u001b[0m\u001b[0m_make_engine\u001b[0m\u001b[0;34m(\u001b[0m\u001b[0mself\u001b[0m\u001b[0;34m.\u001b[0m\u001b[0mengine\u001b[0m\u001b[0;34m)\u001b[0m\u001b[0;34m\u001b[0m\u001b[0;34m\u001b[0m\u001b[0m\n\u001b[0m\u001b[1;32m    896\u001b[0m \u001b[0;34m\u001b[0m\u001b[0m\n\u001b[1;32m    897\u001b[0m     \u001b[0;32mdef\u001b[0m \u001b[0mclose\u001b[0m\u001b[0;34m(\u001b[0m\u001b[0mself\u001b[0m\u001b[0;34m)\u001b[0m\u001b[0;34m:\u001b[0m\u001b[0;34m\u001b[0m\u001b[0;34m\u001b[0m\u001b[0m\n",
      "\u001b[0;32m//anaconda3/lib/python3.7/site-packages/pandas/io/parsers.py\u001b[0m in \u001b[0;36m_make_engine\u001b[0;34m(self, engine)\u001b[0m\n\u001b[1;32m   1120\u001b[0m     \u001b[0;32mdef\u001b[0m \u001b[0m_make_engine\u001b[0m\u001b[0;34m(\u001b[0m\u001b[0mself\u001b[0m\u001b[0;34m,\u001b[0m \u001b[0mengine\u001b[0m\u001b[0;34m=\u001b[0m\u001b[0;34m'c'\u001b[0m\u001b[0;34m)\u001b[0m\u001b[0;34m:\u001b[0m\u001b[0;34m\u001b[0m\u001b[0;34m\u001b[0m\u001b[0m\n\u001b[1;32m   1121\u001b[0m         \u001b[0;32mif\u001b[0m \u001b[0mengine\u001b[0m \u001b[0;34m==\u001b[0m \u001b[0;34m'c'\u001b[0m\u001b[0;34m:\u001b[0m\u001b[0;34m\u001b[0m\u001b[0;34m\u001b[0m\u001b[0m\n\u001b[0;32m-> 1122\u001b[0;31m             \u001b[0mself\u001b[0m\u001b[0;34m.\u001b[0m\u001b[0m_engine\u001b[0m \u001b[0;34m=\u001b[0m \u001b[0mCParserWrapper\u001b[0m\u001b[0;34m(\u001b[0m\u001b[0mself\u001b[0m\u001b[0;34m.\u001b[0m\u001b[0mf\u001b[0m\u001b[0;34m,\u001b[0m \u001b[0;34m**\u001b[0m\u001b[0mself\u001b[0m\u001b[0;34m.\u001b[0m\u001b[0moptions\u001b[0m\u001b[0;34m)\u001b[0m\u001b[0;34m\u001b[0m\u001b[0;34m\u001b[0m\u001b[0m\n\u001b[0m\u001b[1;32m   1123\u001b[0m         \u001b[0;32melse\u001b[0m\u001b[0;34m:\u001b[0m\u001b[0;34m\u001b[0m\u001b[0;34m\u001b[0m\u001b[0m\n\u001b[1;32m   1124\u001b[0m             \u001b[0;32mif\u001b[0m \u001b[0mengine\u001b[0m \u001b[0;34m==\u001b[0m \u001b[0;34m'python'\u001b[0m\u001b[0;34m:\u001b[0m\u001b[0;34m\u001b[0m\u001b[0;34m\u001b[0m\u001b[0m\n",
      "\u001b[0;32m//anaconda3/lib/python3.7/site-packages/pandas/io/parsers.py\u001b[0m in \u001b[0;36m__init__\u001b[0;34m(self, src, **kwds)\u001b[0m\n\u001b[1;32m   1851\u001b[0m         \u001b[0mkwds\u001b[0m\u001b[0;34m[\u001b[0m\u001b[0;34m'usecols'\u001b[0m\u001b[0;34m]\u001b[0m \u001b[0;34m=\u001b[0m \u001b[0mself\u001b[0m\u001b[0;34m.\u001b[0m\u001b[0musecols\u001b[0m\u001b[0;34m\u001b[0m\u001b[0;34m\u001b[0m\u001b[0m\n\u001b[1;32m   1852\u001b[0m \u001b[0;34m\u001b[0m\u001b[0m\n\u001b[0;32m-> 1853\u001b[0;31m         \u001b[0mself\u001b[0m\u001b[0;34m.\u001b[0m\u001b[0m_reader\u001b[0m \u001b[0;34m=\u001b[0m \u001b[0mparsers\u001b[0m\u001b[0;34m.\u001b[0m\u001b[0mTextReader\u001b[0m\u001b[0;34m(\u001b[0m\u001b[0msrc\u001b[0m\u001b[0;34m,\u001b[0m \u001b[0;34m**\u001b[0m\u001b[0mkwds\u001b[0m\u001b[0;34m)\u001b[0m\u001b[0;34m\u001b[0m\u001b[0;34m\u001b[0m\u001b[0m\n\u001b[0m\u001b[1;32m   1854\u001b[0m         \u001b[0mself\u001b[0m\u001b[0;34m.\u001b[0m\u001b[0munnamed_cols\u001b[0m \u001b[0;34m=\u001b[0m \u001b[0mself\u001b[0m\u001b[0;34m.\u001b[0m\u001b[0m_reader\u001b[0m\u001b[0;34m.\u001b[0m\u001b[0munnamed_cols\u001b[0m\u001b[0;34m\u001b[0m\u001b[0;34m\u001b[0m\u001b[0m\n\u001b[1;32m   1855\u001b[0m \u001b[0;34m\u001b[0m\u001b[0m\n",
      "\u001b[0;32mpandas/_libs/parsers.pyx\u001b[0m in \u001b[0;36mpandas._libs.parsers.TextReader.__cinit__\u001b[0;34m()\u001b[0m\n",
      "\u001b[0;32mpandas/_libs/parsers.pyx\u001b[0m in \u001b[0;36mpandas._libs.parsers.TextReader._setup_parser_source\u001b[0;34m()\u001b[0m\n",
      "\u001b[0;31mFileNotFoundError\u001b[0m: [Errno 2] File b'house-votes-84.data' does not exist: b'house-votes-84.data'"
     ]
    }
   ],
   "source": [
    "# make into a dataframe\n",
    "column_headers = ['party','handicapped-infants','water-project',\n",
    "                          'budget','physician-fee-freeze', 'el-salvador-aid',\n",
    "                          'religious-groups','anti-satellite-ban',\n",
    "                          'aid-to-contras','mx-missile','immigration',\n",
    "                          'synfuels', 'education', 'right-to-sue','crime','duty-free',\n",
    "                          'south-africa']\n",
    "\n",
    "df = pd.read_csv('house-votes-84.data', \n",
    "                 header=None, \n",
    "                 names=column_headers,\n",
    "                 na_values=\"?\")\n",
    "\n",
    "df.head()"
   ]
  },
  {
   "cell_type": "code",
   "execution_count": null,
   "metadata": {},
   "outputs": [],
   "source": [
    "# recode votes as numeric\n",
    "df = df.replace({'y': 1, 'n': 0})\n",
    "df.head()"
   ]
  },
  {
   "cell_type": "code",
   "execution_count": null,
   "metadata": {},
   "outputs": [],
   "source": [
    "# how many from each party?\n",
    "df['party'].value_counts()"
   ]
  },
  {
   "cell_type": "code",
   "execution_count": null,
   "metadata": {},
   "outputs": [],
   "source": [
    "# how did Republicans vote?\n",
    "rep = df[df['party']=='republican']\n",
    "rep.head()"
   ]
  },
  {
   "cell_type": "code",
   "execution_count": null,
   "metadata": {},
   "outputs": [],
   "source": [
    "# how did Democrats vote?\n",
    "dem = df[df['party']=='democrat']\n",
    "dem.head()"
   ]
  },
  {
   "cell_type": "code",
   "execution_count": null,
   "metadata": {},
   "outputs": [],
   "source": [
    "# the percentage of republicans who voted \"yes\" (1) \n",
    "# on the handicapped-infants bill\n",
    "\n",
    "rep['handicapped-infants'].sum()/len(rep)\n",
    "\n",
    "# len() is counting NaN values too!"
   ]
  },
  {
   "cell_type": "code",
   "execution_count": null,
   "metadata": {},
   "outputs": [],
   "source": [
    "# Remove NaN values from this column\n",
    "\n",
    "col = rep['handicapped-infants']\n",
    "\n",
    "np.isnan(col)\n",
    "\n",
    "handicapped_infants_no_nans = col[~np.isnan(col)]\n",
    "\n",
    "# The same column as before, but I've dropped the NaN values\n",
    "handicapped_infants_no_nans\n",
    "\n",
    "handicapped_infants_no_nans.sum()/len(handicapped_infants_no_nans)"
   ]
  },
  {
   "cell_type": "code",
   "execution_count": null,
   "metadata": {},
   "outputs": [],
   "source": [
    "# Average rate of voting 'yes' on the handicapped-infants\n",
    "rep['handicapped-infants'].mean()"
   ]
  },
  {
   "cell_type": "code",
   "execution_count": 100,
   "metadata": {},
   "outputs": [
    {
     "data": {
      "text/plain": [
       "Ttest_indResult(statistic=-8.063860235763045, pvalue=1.1252180169878018e-15)"
      ]
     },
     "execution_count": 100,
     "metadata": {},
     "output_type": "execute_result"
    }
   ],
   "source": []
  },
  {
   "cell_type": "markdown",
   "metadata": {},
   "source": [
    "#### water project bill (two-sample t-test)"
   ]
  },
  {
   "cell_type": "markdown",
   "metadata": {},
   "source": [
    "1) Null Hypothesis: There is no difference between average voting rates (levels of support) for the water-project bill between democrats and republicans in the house of representatives. (support is equal)\n",
    "\n",
    "𝑥¯1==𝑥¯2 \n",
    "Where  𝑥¯1  is the mean of republican votes and  𝑥¯2  is the mean of democrat votes.\n",
    "\n",
    "2) Alternative Hypothesis:\n",
    "\n",
    "𝑥¯1≠𝑥¯2 \n",
    "Levels of support between the two parties will differ.\n",
    "\n",
    "3) 95% Confidence Level"
   ]
  },
  {
   "cell_type": "code",
   "execution_count": null,
   "metadata": {},
   "outputs": [],
   "source": [
    "from scipy.stats import ttest_ind"
   ]
  },
  {
   "cell_type": "code",
   "execution_count": null,
   "metadata": {},
   "outputs": [],
   "source": [
    "# What is the mean support of Republicans?\n",
    "rep['water-project'].mean()"
   ]
  },
  {
   "cell_type": "code",
   "execution_count": null,
   "metadata": {},
   "outputs": [],
   "source": [
    "# what is the mean support of Democrats?\n",
    "dem['water-project'].mean()"
   ]
  },
  {
   "cell_type": "code",
   "execution_count": null,
   "metadata": {},
   "outputs": [],
   "source": [
    "# compare with a t-test:\n",
    "ttest_ind(rep['water-project'], dem['water-project'])"
   ]
  },
  {
   "cell_type": "code",
   "execution_count": null,
   "metadata": {},
   "outputs": [],
   "source": [
    "# account for NaN's\n",
    "ttest_ind(rep['water-project'], dem['water-project'], nan_policy='omit')"
   ]
  },
  {
   "cell_type": "code",
   "execution_count": null,
   "metadata": {},
   "outputs": [],
   "source": [
    "# You could also remove NaN values from this column\n",
    "\n",
    "col = rep['water-project']\n",
    "rep_water_project_no_nans = col[~np.isnan(col)]\n",
    "\n",
    "col = dem['water-project']\n",
    "dem_water_project_no_nans = col[~np.isnan(col)]\n",
    "\n",
    "# My sample sizes for the two samples:\n",
    "print(len(rep_water_project_no_nans))\n",
    "print(len(dem_water_project_no_nans))"
   ]
  },
  {
   "cell_type": "markdown",
   "metadata": {},
   "source": [
    "When I have multiple samples (using a 2-sample t-test) I will use the smaller of the two samples to determine my degrees of freedom\n",
    "\n",
    "So in this case, df = 148-1 = 147"
   ]
  },
  {
   "cell_type": "markdown",
   "metadata": {},
   "source": [
    "4) T-statistic: .089\n",
    "\n",
    "5) P-value: .929\n",
    "\n",
    "I want to reject the null hypothesis if my p-value is < .05 or if my p-value is less than (1-confidence_level)\n",
    "\n",
    "Conclusion: due to a p-value of .929 I fail to reject the null hypothesis that republican and democrat support for the water-project bill is different.\n",
    "\n",
    "I never say that I \"accept\" the null hypothesis, I just say that I \"fail to reject\""
   ]
  },
  {
   "cell_type": "markdown",
   "metadata": {},
   "source": [
    "#### 1-sample T-test example"
   ]
  },
  {
   "cell_type": "markdown",
   "metadata": {},
   "source": [
    "I'm only using one sample, and my null hypothesis will be different.\n",
    "\n",
    "We're looking at Democrat support of the South-Africa bill\n",
    "\n",
    "1a) Null Hypothesis:\n",
    "\n",
    "𝑥¯1  (average dem support for SA bill) == 1.\n",
    "\n",
    "This says that 100% of democrats support this bill. Full support.\n",
    "\n",
    "1b) Null Hypothesis:\n",
    "\n",
    "𝑥¯1  (average dem support for SA bill) == .5\n",
    "\n",
    "This says that 50% of democrats support this bill. The party is split.\n",
    "\n",
    "1c) Null Hypothesis:\n",
    "\n",
    "𝑥¯1  (average dem support for SA bill) == 0.\n",
    "\n",
    "This says that 0% of democrats support this bill. The party is against the bill.\n",
    "\n",
    "1d) Null Hypothesis:\n",
    "\n",
    "𝑥¯1  (average dem support for SA bill) == .78245\n",
    "\n",
    "This says that 0% of democrats support this bill. The party is against the bill.\n",
    "\n",
    "**With 1-sample t-tests I can frame that I'm asking through my choice of null hypothesis**"
   ]
  },
  {
   "cell_type": "markdown",
   "metadata": {},
   "source": [
    "1) Null Hypothesis:  𝑥¯1  (average dem support for SA bill) == .5\n",
    "\n",
    "This says that 50% of democrats support this bill. The party is split.\n",
    "\n",
    "2) Alternative Hypothesis: Support is not equal to .5 or 50%\n",
    "\n",
    "𝑥¯1  (average dem support for SA bill)  ≠  .5\n",
    "\n",
    "This says nothing about if support is greater than or less than 50%, it's just saying that it's not 50% - it's different, it's something other than 50%.\n",
    "\n",
    "3) Confidence Level: 95%"
   ]
  },
  {
   "cell_type": "code",
   "execution_count": null,
   "metadata": {},
   "outputs": [],
   "source": [
    "# import\n",
    "from scipy.stats import ttest_1samp"
   ]
  },
  {
   "cell_type": "code",
   "execution_count": null,
   "metadata": {},
   "outputs": [],
   "source": [
    "# conduct the t-test\n",
    "ttest_1samp(dem['south-africa'], .5, nan_policy='omit')"
   ]
  },
  {
   "cell_type": "markdown",
   "metadata": {},
   "source": [
    "Due to a p-value of (basically 0) we reject the null hypothesis that democrat support for the South Africa bill is .5 (split party) and conclude that it is something different.\n"
   ]
  },
  {
   "cell_type": "code",
   "execution_count": null,
   "metadata": {},
   "outputs": [],
   "source": [
    "# what is the average support among Democrats?\n",
    "dem['south-africa'].mean()"
   ]
  },
  {
   "cell_type": "code",
   "execution_count": null,
   "metadata": {},
   "outputs": [],
   "source": [
    "# is it significantly different from 90%?\n",
    "ttest_1samp(dem['south-africa'], .9, nan_policy='omit')"
   ]
  },
  {
   "cell_type": "markdown",
   "metadata": {},
   "source": [
    "Fail to reject the null hypothesis:\n",
    "\n",
    "I conclude that that democrat support for the South Africa bill is not significantly different from 90%."
   ]
  },
  {
   "cell_type": "code",
   "execution_count": null,
   "metadata": {},
   "outputs": [],
   "source": [
    "# what about 89.9?\n",
    "ttest_1samp(dem['south-africa'], .899, nan_policy='omit')"
   ]
  },
  {
   "cell_type": "markdown",
   "metadata": {},
   "source": [
    "Due to a p-value of .048, I reject the null hypothesis that democrat support for this bill is 89.9% and suggest the alternative that it is different from 89.9%"
   ]
  },
  {
   "cell_type": "markdown",
   "metadata": {
    "colab_type": "text",
    "id": "1yx_QilAEC6o"
   },
   "source": [
    "## Congressional Data from the 1980's"
   ]
  },
  {
   "cell_type": "markdown",
   "metadata": {},
   "source": [
    "#### Get and prepare the data"
   ]
  },
  {
   "cell_type": "code",
   "execution_count": null,
   "metadata": {
    "colab": {},
    "colab_type": "code",
    "id": "BuysRPs-Ed0v"
   },
   "outputs": [],
   "source": [
    "# imports\n",
    "from scipy.stats import ttest_ind, ttest_ind_from_stats, ttest_rel"
   ]
  },
  {
   "cell_type": "code",
   "execution_count": null,
   "metadata": {},
   "outputs": [],
   "source": [
    "# get the data\n",
    "!wget https://archive.ics.uci.edu/ml/machine-learning-databases/voting-records/house-votes-84.data"
   ]
  },
  {
   "cell_type": "code",
   "execution_count": null,
   "metadata": {},
   "outputs": [],
   "source": [
    "# make into a dataframe\n",
    "column_headers = ['party','handicapped-infants','water-project',\n",
    "                          'budget','physician-fee-freeze', 'el-salvador-aid',\n",
    "                          'religious-groups','anti-satellite-ban',\n",
    "                          'aid-to-contras','mx-missile','immigration',\n",
    "                          'synfuels', 'education', 'right-to-sue','crime','duty-free',\n",
    "                          'south-africa']\n",
    "\n",
    "df = pd.read_csv('house-votes-84.data', \n",
    "                 header=None, \n",
    "                 names=column_headers,\n",
    "                 na_values=\"?\")\n",
    "\n",
    "df.head()"
   ]
  },
  {
   "cell_type": "code",
   "execution_count": null,
   "metadata": {},
   "outputs": [],
   "source": [
    "# recode votes as numeric\n",
    "df = df.replace({'y': 1, 'n': 0})\n",
    "df.head()"
   ]
  },
  {
   "cell_type": "code",
   "execution_count": null,
   "metadata": {},
   "outputs": [],
   "source": [
    "# how many from each party?\n",
    "df['party'].value_counts()"
   ]
  },
  {
   "cell_type": "code",
   "execution_count": null,
   "metadata": {},
   "outputs": [],
   "source": [
    "# how did Republicans vote?\n",
    "rep = df[df['party']=='republican']\n",
    "rep.head()"
   ]
  },
  {
   "cell_type": "code",
   "execution_count": null,
   "metadata": {},
   "outputs": [],
   "source": [
    "# how did Democrats vote?\n",
    "dem = df[df['party']=='democrat']\n",
    "dem.head()"
   ]
  },
  {
   "cell_type": "code",
   "execution_count": null,
   "metadata": {},
   "outputs": [],
   "source": [
    "# the percentage of republicans who voted \"yes\" (1) \n",
    "# on the handicapped-infants bill\n",
    "\n",
    "rep['handicapped-infants'].sum()/len(rep)\n",
    "\n",
    "# len() is counting NaN values too!"
   ]
  },
  {
   "cell_type": "code",
   "execution_count": null,
   "metadata": {},
   "outputs": [],
   "source": [
    "# Remove NaN values from this column\n",
    "\n",
    "col = rep['handicapped-infants']\n",
    "\n",
    "np.isnan(col)\n",
    "\n",
    "handicapped_infants_no_nans = col[~np.isnan(col)]\n",
    "\n",
    "# The same column as before, but I've dropped the NaN values\n",
    "handicapped_infants_no_nans\n",
    "\n",
    "handicapped_infants_no_nans.sum()/len(handicapped_infants_no_nans)"
   ]
  },
  {
   "cell_type": "code",
   "execution_count": null,
   "metadata": {},
   "outputs": [],
   "source": [
    "# Average rate of voting 'yes' on the handicapped-infants\n",
    "rep['handicapped-infants'].mean()"
   ]
  },
  {
   "cell_type": "markdown",
   "metadata": {},
   "source": [
    "#### water project bill (two-sample t-test)"
   ]
  },
  {
   "cell_type": "markdown",
   "metadata": {},
   "source": [
    "1) Null Hypothesis: There is no difference between average voting rates (levels of support) for the water-project bill between democrats and republicans in the house of representatives. (support is equal)\n",
    "\n",
    "𝑥¯1==𝑥¯2 \n",
    "Where  𝑥¯1  is the mean of republican votes and  𝑥¯2  is the mean of democrat votes.\n",
    "\n",
    "2) Alternative Hypothesis:\n",
    "\n",
    "𝑥¯1≠𝑥¯2 \n",
    "Levels of support between the two parties will differ.\n",
    "\n",
    "3) 95% Confidence Level"
   ]
  },
  {
   "cell_type": "code",
   "execution_count": null,
   "metadata": {},
   "outputs": [],
   "source": [
    "from scipy.stats import ttest_ind"
   ]
  },
  {
   "cell_type": "code",
   "execution_count": null,
   "metadata": {},
   "outputs": [],
   "source": [
    "# What is the mean support of Republicans?\n",
    "rep['water-project'].mean()"
   ]
  },
  {
   "cell_type": "code",
   "execution_count": null,
   "metadata": {},
   "outputs": [],
   "source": [
    "# what is the mean support of Democrats?\n",
    "dem['water-project'].mean()"
   ]
  },
  {
   "cell_type": "code",
   "execution_count": null,
   "metadata": {},
   "outputs": [],
   "source": [
    "# compare with a t-test:\n",
    "ttest_ind(rep['water-project'], dem['water-project'])"
   ]
  },
  {
   "cell_type": "code",
   "execution_count": null,
   "metadata": {},
   "outputs": [],
   "source": [
    "# account for NaN's\n",
    "ttest_ind(rep['water-project'], dem['water-project'], nan_policy='omit')"
   ]
  },
  {
   "cell_type": "code",
   "execution_count": null,
   "metadata": {},
   "outputs": [],
   "source": [
    "# You could also remove NaN values from this column\n",
    "\n",
    "col = rep['water-project']\n",
    "rep_water_project_no_nans = col[~np.isnan(col)]\n",
    "\n",
    "col = dem['water-project']\n",
    "dem_water_project_no_nans = col[~np.isnan(col)]\n",
    "\n",
    "# My sample sizes for the two samples:\n",
    "print(len(rep_water_project_no_nans))\n",
    "print(len(dem_water_project_no_nans))"
   ]
  },
  {
   "cell_type": "markdown",
   "metadata": {},
   "source": [
    "When I have multiple samples (using a 2-sample t-test) I will use the smaller of the two samples to determine my degrees of freedom\n",
    "\n",
    "So in this case, df = 148-1 = 147"
   ]
  },
  {
   "cell_type": "markdown",
   "metadata": {},
   "source": [
    "4) T-statistic: .089\n",
    "\n",
    "5) P-value: .929\n",
    "\n",
    "I want to reject the null hypothesis if my p-value is < .05 or if my p-value is less than (1-confidence_level)\n",
    "\n",
    "Conclusion: due to a p-value of .929 I fail to reject the null hypothesis that republican and democrat support for the water-project bill is different.\n",
    "\n",
    "I never say that I \"accept\" the null hypothesis, I just say that I \"fail to reject\""
   ]
  },
  {
   "cell_type": "markdown",
   "metadata": {},
   "source": [
    "#### 1-sample T-test example"
   ]
  },
  {
   "cell_type": "markdown",
   "metadata": {},
   "source": [
    "I'm only using one sample, and my null hypothesis will be different.\n",
    "\n",
    "We're looking at Democrat support of the South-Africa bill\n",
    "\n",
    "1a) Null Hypothesis:\n",
    "\n",
    "𝑥¯1  (average dem support for SA bill) == 1.\n",
    "\n",
    "This says that 100% of democrats support this bill. Full support.\n",
    "\n",
    "1b) Null Hypothesis:\n",
    "\n",
    "𝑥¯1  (average dem support for SA bill) == .5\n",
    "\n",
    "This says that 50% of democrats support this bill. The party is split.\n",
    "\n",
    "1c) Null Hypothesis:\n",
    "\n",
    "𝑥¯1  (average dem support for SA bill) == 0.\n",
    "\n",
    "This says that 0% of democrats support this bill. The party is against the bill.\n",
    "\n",
    "1d) Null Hypothesis:\n",
    "\n",
    "𝑥¯1  (average dem support for SA bill) == .78245\n",
    "\n",
    "This says that 0% of democrats support this bill. The party is against the bill.\n",
    "\n",
    "**With 1-sample t-tests I can frame that I'm asking through my choice of null hypothesis**"
   ]
  },
  {
   "cell_type": "markdown",
   "metadata": {},
   "source": [
    "1) Null Hypothesis:  𝑥¯1  (average dem support for SA bill) == .5\n",
    "\n",
    "This says that 50% of democrats support this bill. The party is split.\n",
    "\n",
    "2) Alternative Hypothesis: Support is not equal to .5 or 50%\n",
    "\n",
    "𝑥¯1  (average dem support for SA bill)  ≠  .5\n",
    "\n",
    "This says nothing about if support is greater than or less than 50%, it's just saying that it's not 50% - it's different, it's something other than 50%.\n",
    "\n",
    "3) Confidence Level: 95%"
   ]
  },
  {
   "cell_type": "code",
   "execution_count": null,
   "metadata": {},
   "outputs": [],
   "source": [
    "# import\n",
    "from scipy.stats import ttest_1samp"
   ]
  },
  {
   "cell_type": "code",
   "execution_count": null,
   "metadata": {},
   "outputs": [],
   "source": [
    "# conduct the t-test\n",
    "ttest_1samp(dem['south-africa'], .5, nan_policy='omit')"
   ]
  },
  {
   "cell_type": "markdown",
   "metadata": {},
   "source": [
    "Due to a p-value of (basically 0) we reject the null hypothesis that democrat support for the South Africa bill is .5 (split party) and conclude that it is something different.\n"
   ]
  },
  {
   "cell_type": "code",
   "execution_count": null,
   "metadata": {},
   "outputs": [],
   "source": [
    "# what is the average support among Democrats?\n",
    "dem['south-africa'].mean()"
   ]
  },
  {
   "cell_type": "code",
   "execution_count": null,
   "metadata": {},
   "outputs": [],
   "source": [
    "# is it significantly different from 90%?\n",
    "ttest_1samp(dem['south-africa'], .9, nan_policy='omit')"
   ]
  },
  {
   "cell_type": "markdown",
   "metadata": {},
   "source": [
    "Fail to reject the null hypothesis:\n",
    "\n",
    "I conclude that that democrat support for the South Africa bill is not significantly different from 90%."
   ]
  },
  {
   "cell_type": "code",
   "execution_count": null,
   "metadata": {},
   "outputs": [],
   "source": [
    "# what about 89.9?\n",
    "ttest_1samp(dem['south-africa'], .899, nan_policy='omit')"
   ]
  },
  {
   "cell_type": "markdown",
   "metadata": {},
   "source": [
    "Due to a p-value of .048, I reject the null hypothesis that democrat support for this bill is 89.9% and suggest the alternative that it is different from 89.9%"
   ]
  },
  {
   "cell_type": "markdown",
   "metadata": {},
   "source": [
    "### Wine Example"
   ]
  },
  {
   "cell_type": "code",
   "execution_count": null,
   "metadata": {},
   "outputs": [],
   "source": [
    "# load the data (wines from Italy)\n",
    "from sklearn.datasets import load_wine\n",
    "X = load_wine()"
   ]
  },
  {
   "cell_type": "code",
   "execution_count": null,
   "metadata": {},
   "outputs": [],
   "source": [
    "# put that into a dataframe\n",
    "import pandas as pd\n",
    "wine=pd.DataFrame(X['data'], columns=X['feature_names'])\n",
    "wine['origin']=X['target']"
   ]
  },
  {
   "cell_type": "code",
   "execution_count": null,
   "metadata": {},
   "outputs": [],
   "source": [
    "# take a look\n",
    "wine.head()"
   ]
  },
  {
   "cell_type": "code",
   "execution_count": null,
   "metadata": {},
   "outputs": [],
   "source": [
    "# examine a column. ash for all 3 origin groups.\n",
    "import seaborn as sns\n",
    "sns.kdeplot(wine['ash'], color='crimson');"
   ]
  },
  {
   "cell_type": "code",
   "execution_count": null,
   "metadata": {},
   "outputs": [],
   "source": [
    "# now for each group. Are these groups different or the same?\n",
    "colorlist=['crimson', 'teal', 'gold']\n",
    "for x in [0,1,2]:\n",
    "    sns.kdeplot(wine[wine['origin']==x]['ash'], color=colorlist[x], label=x);"
   ]
  },
  {
   "cell_type": "code",
   "execution_count": null,
   "metadata": {},
   "outputs": [],
   "source": [
    "# are they different or the same?\n",
    "for x in [0,1,2]:\n",
    "    print(wine[wine['origin']==x]['ash'].mean())\n",
    "    print(wine[wine['origin']==x]['ash'].std())\n",
    "    print('\\n')"
   ]
  },
  {
   "cell_type": "code",
   "execution_count": null,
   "metadata": {},
   "outputs": [],
   "source": [
    "# create two samples from the two origins\n",
    "ash1 = wine[wine['origin']==1]['ash']\n",
    "ash2 = wine[wine['origin']==2]['ash']"
   ]
  },
  {
   "cell_type": "code",
   "execution_count": null,
   "metadata": {},
   "outputs": [],
   "source": [
    "# compare samples 0 and 1. do they have the same ash content in the soil?\n",
    "stat, pvalue = ttest_ind(ash1, ash2)"
   ]
  },
  {
   "cell_type": "code",
   "execution_count": null,
   "metadata": {},
   "outputs": [],
   "source": [
    "# is the pvalue less than 0.05?\n",
    "pvalue <= 0.05"
   ]
  },
  {
   "cell_type": "markdown",
   "metadata": {},
   "source": [
    "#### Alcohol content"
   ]
  },
  {
   "cell_type": "code",
   "execution_count": null,
   "metadata": {},
   "outputs": [],
   "source": [
    "# compare mean alcohol for two origin groups\n",
    "for group in range(0,2):\n",
    "    sns.kdeplot(wine[wine['origin']==group]['alcohol'], label=group)"
   ]
  },
  {
   "cell_type": "code",
   "execution_count": null,
   "metadata": {},
   "outputs": [],
   "source": [
    "# create the groups\n",
    "group1=wine[wine['origin']==0]['alcohol']\n",
    "group2=wine[wine['origin']==1]['alcohol']"
   ]
  },
  {
   "cell_type": "code",
   "execution_count": null,
   "metadata": {},
   "outputs": [],
   "source": [
    "# run the t-test and interpret the p-value\n",
    "stat, pvalue = ttest_ind(group1, group2)"
   ]
  },
  {
   "cell_type": "code",
   "execution_count": null,
   "metadata": {},
   "outputs": [],
   "source": [
    "# format so it's not in scientific notation\n",
    "print('{:.15f}'.format(pvalue))"
   ]
  },
  {
   "cell_type": "markdown",
   "metadata": {},
   "source": [
    "#### Same analysis, on hue"
   ]
  },
  {
   "cell_type": "code",
   "execution_count": null,
   "metadata": {},
   "outputs": [],
   "source": [
    "for group in range(0,2):\n",
    "    sns.kdeplot(wine[wine['origin']==group]['hue'], label=group)"
   ]
  },
  {
   "cell_type": "code",
   "execution_count": null,
   "metadata": {},
   "outputs": [],
   "source": [
    "# create the groups\n",
    "group1=wine[wine['origin']==0]['hue']\n",
    "group2=wine[wine['origin']==1]['hue']"
   ]
  },
  {
   "cell_type": "code",
   "execution_count": null,
   "metadata": {},
   "outputs": [],
   "source": [
    "# run the t-test\n",
    "stat,pvalue=ttest_ind(group1, group2)\n",
    "print(pvalue<=0.05)"
   ]
  },
  {
   "cell_type": "code",
   "execution_count": null,
   "metadata": {},
   "outputs": [],
   "source": []
  },
  {
   "cell_type": "code",
   "execution_count": null,
   "metadata": {},
   "outputs": [],
   "source": []
  },
  {
   "cell_type": "code",
   "execution_count": null,
   "metadata": {},
   "outputs": [],
   "source": []
  },
  {
   "cell_type": "markdown",
   "metadata": {
    "colab_type": "text",
    "id": "wiq83guLcuAE"
   },
   "source": [
    "# Resources\n",
    "\n",
    "- https://homepage.divms.uiowa.edu/~mbognar/applets/t.html\n",
    "- https://rpsychologist.com/d3/tdist/\n",
    "- https://gallery.shinyapps.io/tdist/\n",
    "- https://en.wikipedia.org/wiki/Standard_deviation#Sample_standard_deviation_of_metabolic_rate_of_northern_fulmars\n",
    "- https://www.khanacademy.org/math/ap-statistics/two-sample-inference/two-sample-t-test-means/v/two-sample-t-test-for-difference-of-means"
   ]
  }
 ],
 "metadata": {
  "colab": {
   "name": "LS_DS_121_Statistics_Probability_and_Inference.ipynb",
   "provenance": []
  },
  "kernelspec": {
   "display_name": "Python 3",
   "language": "python",
   "name": "python3"
  },
  "language_info": {
   "codemirror_mode": {
    "name": "ipython",
    "version": 3
   },
   "file_extension": ".py",
   "mimetype": "text/x-python",
   "name": "python",
   "nbconvert_exporter": "python",
   "pygments_lexer": "ipython3",
   "version": "3.7.3"
  }
 },
 "nbformat": 4,
 "nbformat_minor": 1
}
